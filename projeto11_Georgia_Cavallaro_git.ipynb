{
 "cells": [
  {
   "cell_type": "markdown",
   "metadata": {},
   "source": [
    "# Revisão de código \n",
    "\n",
    "Olá! \n",
    "\n",
    "Meu nome é Suelen. Estou feliz em revisar seu projeto hoje!\n",
    "\n",
    "Quando vejo um erro pela primeira vez, apenas aponto. Deixarei você encontrá-lo e corrigi-lo sozinho. Além disso, ao longo do texto, farei algumas observações sobre melhorias no código e também farei comentários sobre suas percepções sobre o assunto. Mas se você ainda não consegue lidar com essa tarefa, darei uma dica mais precisa na próxima iteração e também alguns exemplos práticos. Estarei aberto a feedbacks e discussões sobre o tema.\n",
    "\n",
    "Você pode encontrar meus comentários em caixas verdes, amarelas ou vermelhas como estas:\n",
    "\n",
    "\n",
    "<div class=\"alert alert-block alert-success\">\n",
    "<b>Comentário: </b> <a class=\"tocSkip\"></a>\n",
    "\n",
    "Sucesso. Tudo está correto.\n",
    "</div>\n",
    "\n",
    "<div class=\"alert alert-block alert-warning\">\n",
    "<b>Comentário: </b> <a class=\"tocSkip\"></a>\n",
    "\n",
    "Observações. Algumas recomendações.\n",
    "</div>\n",
    "\n",
    "<div class=\"alert alert-block alert-danger\">\n",
    "\n",
    "<b>Comentário: </b> <a class=\"tocSkip\"></a>\n",
    "\n",
    "O bloco requer algumas correções. O trabalho não pode ser aceito com os comentários vermelhos.\n",
    "</div>\n",
    "\n",
    "Você pode me responder usando isto:\n",
    "\n",
    "<div class=\"alert alert-block alert-info\">\n",
    "<b>Resposta do aluno.  \n",
    "    </b> <a class=\"tocSkip\"></a>\n",
    "</div>\n",
    "\n"
   ]
  },
  {
   "cell_type": "code",
   "execution_count": null,
   "metadata": {},
   "outputs": [],
   "source": []
  },
  {
   "cell_type": "markdown",
   "metadata": {},
   "source": [
    "<div class=\"alert alert-block alert-success\">\n",
    "\n",
    "<b>Comentário geral: </b> <a class=\"tocSkip\"></a>\n",
    "\n",
    "Parabéns pela conclusão do projeto, Georgia! 🎉🚀Seu projeto está com uma qualidade fenomenal: \n",
    "- Código claro, eficiente e otimizado\n",
    "- Comentários relevantes a cada etapa \n",
    "\n",
    "\n",
    "O projeto está aprovado! Parabéns!\n",
    "</div>"
   ]
  },
  {
   "cell_type": "markdown",
   "metadata": {},
   "source": [
    "# Regressão Linear com Mascaramento de Dados"
   ]
  },
  {
   "cell_type": "markdown",
   "metadata": {},
   "source": [
    "A companhia de seguros Proteja Seu Amanhã quer resolver algumas tarefas com a ajuda de aprendizado de máquina e você precisa avaliar a possibilidade de fazê-lo.\n",
    "\n",
    "- **Tarefa 1:** Encontrar clientes semelhantes a um determinado cliente. Isso vai ajudar os agentes da empresa com tarefas de marketing.\n",
    "- **Tarefa 2:** Predizer se um novo cliente provavelmente receberá um pagamento de seguro. Um modelo de predição pode ser melhor do que um modelo dummy?\n",
    "- **Tarefa 3:** Predizer o número de pagamentos de seguro que um novo cliente provavelmente receberá usando um modelo de regressão linear.\n",
    "- **Tarefa 4:** Proteger os dados pessoais dos clientes sem estragar o modelo da tarefa anterior.\n",
    "\n",
    "É necessário desenvolver um algoritmo de transformação de dados que tornaria difícil recuperar informações pessoais se os dados caíssem nas mãos erradas. Isso é chamado de mascaramento de dados ou ofuscação de dados. Mas os dados devem ser protegidos de forma que a qualidade dos modelos de aprendizado de máquina não piore. Você não precisa escolher o melhor modelo, só prove que o algoritmo funciona corretamente."
   ]
  },
  {
   "cell_type": "markdown",
   "metadata": {},
   "source": [
    "# Pré-processamento de dados & Exploração\n",
    "\n",
    "## Inicialização"
   ]
  },
  {
   "cell_type": "code",
   "execution_count": 1,
   "metadata": {},
   "outputs": [
    {
     "name": "stdout",
     "output_type": "stream",
     "text": [
      "Requirement already satisfied: scikit-learn in /opt/conda/envs/python3/lib/python3.9/site-packages (0.24.1)\n",
      "Collecting scikit-learn\n",
      "  Downloading scikit_learn-1.5.2-cp39-cp39-manylinux_2_17_x86_64.manylinux2014_x86_64.whl.metadata (13 kB)\n",
      "Requirement already satisfied: numpy>=1.19.5 in /opt/conda/envs/python3/lib/python3.9/site-packages (from scikit-learn) (1.21.2)\n",
      "Requirement already satisfied: scipy>=1.6.0 in /opt/conda/envs/python3/lib/python3.9/site-packages (from scikit-learn) (1.10.1)\n",
      "Requirement already satisfied: joblib>=1.2.0 in /opt/conda/envs/python3/lib/python3.9/site-packages (from scikit-learn) (1.4.2)\n",
      "Requirement already satisfied: threadpoolctl>=3.1.0 in /opt/conda/envs/python3/lib/python3.9/site-packages (from scikit-learn) (3.5.0)\n",
      "Downloading scikit_learn-1.5.2-cp39-cp39-manylinux_2_17_x86_64.manylinux2014_x86_64.whl (13.4 MB)\n",
      "\u001b[2K   \u001b[90m━━━━━━━━━━━━━━━━━━━━━━━━━━━━━━━━━━━━━━━━\u001b[0m \u001b[32m13.4/13.4 MB\u001b[0m \u001b[31m81.5 MB/s\u001b[0m eta \u001b[36m0:00:00\u001b[0m:00:01\u001b[0m0:01\u001b[0m\n",
      "\u001b[?25hInstalling collected packages: scikit-learn\n",
      "  Attempting uninstall: scikit-learn\n",
      "    Found existing installation: scikit-learn 0.24.1\n",
      "    Uninstalling scikit-learn-0.24.1:\n",
      "\u001b[31mERROR: Could not install packages due to an OSError: [Errno 13] Permission denied: 'COPYING'\n",
      "Consider using the `--user` option or check the permissions.\n",
      "\u001b[0m\u001b[31m\n",
      "\u001b[0mNote: you may need to restart the kernel to use updated packages.\n"
     ]
    }
   ],
   "source": [
    "pip install scikit-learn --upgrade"
   ]
  },
  {
   "cell_type": "code",
   "execution_count": 2,
   "metadata": {},
   "outputs": [],
   "source": [
    "import contextlib\n",
    "import io\n",
    "import math\n",
    "\n",
    "import numpy as np\n",
    "import pandas as pd\n",
    "\n",
    "import seaborn as sns\n",
    "\n",
    "import sklearn.linear_model\n",
    "import sklearn.metrics\n",
    "import sklearn.neighbors\n",
    "import sklearn.preprocessing\n",
    "\n",
    "from sklearn.model_selection import train_test_split\n",
    "\n",
    "from IPython.display import display"
   ]
  },
  {
   "cell_type": "markdown",
   "metadata": {},
   "source": [
    "## Carregar Dados"
   ]
  },
  {
   "cell_type": "markdown",
   "metadata": {},
   "source": [
    "Carregue os dados e faça uma verificação básica de que estão livres de problemas óbvios."
   ]
  },
  {
   "cell_type": "code",
   "execution_count": 3,
   "metadata": {},
   "outputs": [],
   "source": [
    "df = pd.read_csv('/datasets/insurance_us.csv')"
   ]
  },
  {
   "cell_type": "markdown",
   "metadata": {},
   "source": [
    "Renomeamos as colunas para tornar o código mais consistente com seu estilo."
   ]
  },
  {
   "cell_type": "code",
   "execution_count": 4,
   "metadata": {},
   "outputs": [],
   "source": [
    "df = df.rename(columns={'Gender': 'gender', 'Age': 'age', 'Salary': 'income', 'Family members': 'family_members', 'Insurance benefits': 'insurance_benefits'})"
   ]
  },
  {
   "cell_type": "code",
   "execution_count": 5,
   "metadata": {},
   "outputs": [
    {
     "data": {
      "text/html": [
       "<div>\n",
       "<style scoped>\n",
       "    .dataframe tbody tr th:only-of-type {\n",
       "        vertical-align: middle;\n",
       "    }\n",
       "\n",
       "    .dataframe tbody tr th {\n",
       "        vertical-align: top;\n",
       "    }\n",
       "\n",
       "    .dataframe thead th {\n",
       "        text-align: right;\n",
       "    }\n",
       "</style>\n",
       "<table border=\"1\" class=\"dataframe\">\n",
       "  <thead>\n",
       "    <tr style=\"text-align: right;\">\n",
       "      <th></th>\n",
       "      <th>gender</th>\n",
       "      <th>age</th>\n",
       "      <th>income</th>\n",
       "      <th>family_members</th>\n",
       "      <th>insurance_benefits</th>\n",
       "    </tr>\n",
       "  </thead>\n",
       "  <tbody>\n",
       "    <tr>\n",
       "      <th>4739</th>\n",
       "      <td>0</td>\n",
       "      <td>37.0</td>\n",
       "      <td>33700.0</td>\n",
       "      <td>2</td>\n",
       "      <td>0</td>\n",
       "    </tr>\n",
       "    <tr>\n",
       "      <th>2666</th>\n",
       "      <td>0</td>\n",
       "      <td>30.0</td>\n",
       "      <td>36400.0</td>\n",
       "      <td>3</td>\n",
       "      <td>0</td>\n",
       "    </tr>\n",
       "    <tr>\n",
       "      <th>2093</th>\n",
       "      <td>1</td>\n",
       "      <td>21.0</td>\n",
       "      <td>43500.0</td>\n",
       "      <td>2</td>\n",
       "      <td>0</td>\n",
       "    </tr>\n",
       "    <tr>\n",
       "      <th>728</th>\n",
       "      <td>0</td>\n",
       "      <td>40.0</td>\n",
       "      <td>32500.0</td>\n",
       "      <td>1</td>\n",
       "      <td>0</td>\n",
       "    </tr>\n",
       "    <tr>\n",
       "      <th>4297</th>\n",
       "      <td>1</td>\n",
       "      <td>34.0</td>\n",
       "      <td>41100.0</td>\n",
       "      <td>0</td>\n",
       "      <td>0</td>\n",
       "    </tr>\n",
       "    <tr>\n",
       "      <th>218</th>\n",
       "      <td>0</td>\n",
       "      <td>29.0</td>\n",
       "      <td>38500.0</td>\n",
       "      <td>0</td>\n",
       "      <td>0</td>\n",
       "    </tr>\n",
       "    <tr>\n",
       "      <th>4678</th>\n",
       "      <td>0</td>\n",
       "      <td>18.0</td>\n",
       "      <td>33300.0</td>\n",
       "      <td>2</td>\n",
       "      <td>0</td>\n",
       "    </tr>\n",
       "    <tr>\n",
       "      <th>3424</th>\n",
       "      <td>0</td>\n",
       "      <td>38.0</td>\n",
       "      <td>49600.0</td>\n",
       "      <td>0</td>\n",
       "      <td>0</td>\n",
       "    </tr>\n",
       "    <tr>\n",
       "      <th>2787</th>\n",
       "      <td>0</td>\n",
       "      <td>19.0</td>\n",
       "      <td>33100.0</td>\n",
       "      <td>2</td>\n",
       "      <td>0</td>\n",
       "    </tr>\n",
       "    <tr>\n",
       "      <th>1160</th>\n",
       "      <td>1</td>\n",
       "      <td>21.0</td>\n",
       "      <td>35000.0</td>\n",
       "      <td>3</td>\n",
       "      <td>0</td>\n",
       "    </tr>\n",
       "  </tbody>\n",
       "</table>\n",
       "</div>"
      ],
      "text/plain": [
       "      gender   age   income  family_members  insurance_benefits\n",
       "4739       0  37.0  33700.0               2                   0\n",
       "2666       0  30.0  36400.0               3                   0\n",
       "2093       1  21.0  43500.0               2                   0\n",
       "728        0  40.0  32500.0               1                   0\n",
       "4297       1  34.0  41100.0               0                   0\n",
       "218        0  29.0  38500.0               0                   0\n",
       "4678       0  18.0  33300.0               2                   0\n",
       "3424       0  38.0  49600.0               0                   0\n",
       "2787       0  19.0  33100.0               2                   0\n",
       "1160       1  21.0  35000.0               3                   0"
      ]
     },
     "execution_count": 5,
     "metadata": {},
     "output_type": "execute_result"
    }
   ],
   "source": [
    "df.sample(10)"
   ]
  },
  {
   "cell_type": "code",
   "execution_count": 6,
   "metadata": {},
   "outputs": [
    {
     "name": "stdout",
     "output_type": "stream",
     "text": [
      "<class 'pandas.core.frame.DataFrame'>\n",
      "RangeIndex: 5000 entries, 0 to 4999\n",
      "Data columns (total 5 columns):\n",
      " #   Column              Non-Null Count  Dtype  \n",
      "---  ------              --------------  -----  \n",
      " 0   gender              5000 non-null   int64  \n",
      " 1   age                 5000 non-null   float64\n",
      " 2   income              5000 non-null   float64\n",
      " 3   family_members      5000 non-null   int64  \n",
      " 4   insurance_benefits  5000 non-null   int64  \n",
      "dtypes: float64(2), int64(3)\n",
      "memory usage: 195.4 KB\n"
     ]
    }
   ],
   "source": [
    "df.info()"
   ]
  },
  {
   "cell_type": "code",
   "execution_count": 7,
   "metadata": {},
   "outputs": [],
   "source": [
    "# podemos querer corrigir o tipo de idade (de float para int), embora isso não seja crítico\n",
    "\n",
    "# escreva sua conversão aqui se você escolher:\n",
    "df['age'] = df['age'].astype('int')"
   ]
  },
  {
   "cell_type": "code",
   "execution_count": 8,
   "metadata": {},
   "outputs": [
    {
     "name": "stdout",
     "output_type": "stream",
     "text": [
      "<class 'pandas.core.frame.DataFrame'>\n",
      "RangeIndex: 5000 entries, 0 to 4999\n",
      "Data columns (total 5 columns):\n",
      " #   Column              Non-Null Count  Dtype  \n",
      "---  ------              --------------  -----  \n",
      " 0   gender              5000 non-null   int64  \n",
      " 1   age                 5000 non-null   int64  \n",
      " 2   income              5000 non-null   float64\n",
      " 3   family_members      5000 non-null   int64  \n",
      " 4   insurance_benefits  5000 non-null   int64  \n",
      "dtypes: float64(1), int64(4)\n",
      "memory usage: 195.4 KB\n"
     ]
    }
   ],
   "source": [
    "# verifique se a conversão foi bem-sucedida\n",
    "df.info()"
   ]
  },
  {
   "cell_type": "code",
   "execution_count": 9,
   "metadata": {},
   "outputs": [
    {
     "data": {
      "text/plain": [
       "gender  age    income  family_members  insurance_benefits\n",
       "False   False  False   False           False                 5000\n",
       "dtype: int64"
      ]
     },
     "execution_count": 9,
     "metadata": {},
     "output_type": "execute_result"
    }
   ],
   "source": [
    "# agora dê uma olhada nas estatísticas descritivas dos dados.\n",
    "# Parece que está tudo bem?\n",
    "df.isnull().value_counts()"
   ]
  },
  {
   "cell_type": "code",
   "execution_count": 10,
   "metadata": {},
   "outputs": [
    {
     "data": {
      "text/html": [
       "<div>\n",
       "<style scoped>\n",
       "    .dataframe tbody tr th:only-of-type {\n",
       "        vertical-align: middle;\n",
       "    }\n",
       "\n",
       "    .dataframe tbody tr th {\n",
       "        vertical-align: top;\n",
       "    }\n",
       "\n",
       "    .dataframe thead th {\n",
       "        text-align: right;\n",
       "    }\n",
       "</style>\n",
       "<table border=\"1\" class=\"dataframe\">\n",
       "  <thead>\n",
       "    <tr style=\"text-align: right;\">\n",
       "      <th></th>\n",
       "      <th>gender</th>\n",
       "      <th>age</th>\n",
       "      <th>income</th>\n",
       "      <th>family_members</th>\n",
       "      <th>insurance_benefits</th>\n",
       "    </tr>\n",
       "  </thead>\n",
       "  <tbody>\n",
       "    <tr>\n",
       "      <th>count</th>\n",
       "      <td>5000.000000</td>\n",
       "      <td>5000.000000</td>\n",
       "      <td>5000.000000</td>\n",
       "      <td>5000.000000</td>\n",
       "      <td>5000.000000</td>\n",
       "    </tr>\n",
       "    <tr>\n",
       "      <th>mean</th>\n",
       "      <td>0.499000</td>\n",
       "      <td>30.952800</td>\n",
       "      <td>39916.360000</td>\n",
       "      <td>1.194200</td>\n",
       "      <td>0.148000</td>\n",
       "    </tr>\n",
       "    <tr>\n",
       "      <th>std</th>\n",
       "      <td>0.500049</td>\n",
       "      <td>8.440807</td>\n",
       "      <td>9900.083569</td>\n",
       "      <td>1.091387</td>\n",
       "      <td>0.463183</td>\n",
       "    </tr>\n",
       "    <tr>\n",
       "      <th>min</th>\n",
       "      <td>0.000000</td>\n",
       "      <td>18.000000</td>\n",
       "      <td>5300.000000</td>\n",
       "      <td>0.000000</td>\n",
       "      <td>0.000000</td>\n",
       "    </tr>\n",
       "    <tr>\n",
       "      <th>25%</th>\n",
       "      <td>0.000000</td>\n",
       "      <td>24.000000</td>\n",
       "      <td>33300.000000</td>\n",
       "      <td>0.000000</td>\n",
       "      <td>0.000000</td>\n",
       "    </tr>\n",
       "    <tr>\n",
       "      <th>50%</th>\n",
       "      <td>0.000000</td>\n",
       "      <td>30.000000</td>\n",
       "      <td>40200.000000</td>\n",
       "      <td>1.000000</td>\n",
       "      <td>0.000000</td>\n",
       "    </tr>\n",
       "    <tr>\n",
       "      <th>75%</th>\n",
       "      <td>1.000000</td>\n",
       "      <td>37.000000</td>\n",
       "      <td>46600.000000</td>\n",
       "      <td>2.000000</td>\n",
       "      <td>0.000000</td>\n",
       "    </tr>\n",
       "    <tr>\n",
       "      <th>max</th>\n",
       "      <td>1.000000</td>\n",
       "      <td>65.000000</td>\n",
       "      <td>79000.000000</td>\n",
       "      <td>6.000000</td>\n",
       "      <td>5.000000</td>\n",
       "    </tr>\n",
       "  </tbody>\n",
       "</table>\n",
       "</div>"
      ],
      "text/plain": [
       "            gender          age        income  family_members  \\\n",
       "count  5000.000000  5000.000000   5000.000000     5000.000000   \n",
       "mean      0.499000    30.952800  39916.360000        1.194200   \n",
       "std       0.500049     8.440807   9900.083569        1.091387   \n",
       "min       0.000000    18.000000   5300.000000        0.000000   \n",
       "25%       0.000000    24.000000  33300.000000        0.000000   \n",
       "50%       0.000000    30.000000  40200.000000        1.000000   \n",
       "75%       1.000000    37.000000  46600.000000        2.000000   \n",
       "max       1.000000    65.000000  79000.000000        6.000000   \n",
       "\n",
       "       insurance_benefits  \n",
       "count         5000.000000  \n",
       "mean             0.148000  \n",
       "std              0.463183  \n",
       "min              0.000000  \n",
       "25%              0.000000  \n",
       "50%              0.000000  \n",
       "75%              0.000000  \n",
       "max              5.000000  "
      ]
     },
     "execution_count": 10,
     "metadata": {},
     "output_type": "execute_result"
    }
   ],
   "source": [
    "# Conferindo se há valores extremos\n",
    "df.describe()"
   ]
  },
  {
   "cell_type": "markdown",
   "metadata": {},
   "source": [
    "- [x]  **Não há dados ausentes**\n",
    "- [x]  **Aparentemente não há valores extremos**"
   ]
  },
  {
   "cell_type": "markdown",
   "metadata": {},
   "source": [
    "## AED"
   ]
  },
  {
   "cell_type": "markdown",
   "metadata": {},
   "source": [
    "Vamos verificar rapidamente se existem determinados grupos de clientes observando o gráfico de pares."
   ]
  },
  {
   "cell_type": "code",
   "execution_count": 11,
   "metadata": {},
   "outputs": [
    {
     "data": {
      "image/png": "[encoded data removed]",
      "text/plain": [
       "<Figure size 1200x1200 with 30 Axes>"
      ]
     },
     "metadata": {},
     "output_type": "display_data"
    }
   ],
   "source": [
    "g = sns.pairplot(df, kind='hist')\n",
    "g.fig.set_size_inches(12, 12)"
   ]
  },
  {
   "cell_type": "markdown",
   "metadata": {},
   "source": [
    "Ok, é um pouco difícil identificar grupos óbvios (clusters), pois é difícil combinar várias variáveis simultaneamente (para analisar distribuições multivariadas). É aí que Álgebra Linear e Aprendizado de Máquina podem ser bastante úteis."
   ]
  },
  {
   "cell_type": "markdown",
   "metadata": {},
   "source": [
    "<div class=\"alert alert-block alert-success\">\n",
    "\n",
    "<b>Comentário: </b> <a class=\"tocSkip\"></a>\n",
    "\n",
    "Processamento de dados realizado com sucesso:\n",
    "- Transformação das colunas para o padrão snake_case\n",
    "- Tratamento do tipo de dado\n",
    "- Análise visual das variáveis  \n",
    "</div>"
   ]
  },
  {
   "cell_type": "markdown",
   "metadata": {},
   "source": [
    "# Tarefa 1. Clientes Similares"
   ]
  },
  {
   "cell_type": "markdown",
   "metadata": {},
   "source": [
    "Na linguagem de AM, é necessário desenvolver um procedimento que retorne k vizinhos mais próximos (objetos) para um determinado objeto com base na distância entre os objetos.\n",
    "Você pode querer rever as seguintes lições (capítulo -> lição)\n",
    "- Distância Entre Vetores -> Distância Euclidiana\n",
    "- Distância Entre Vetores -> Distância de Manhattan\n",
    "\n",
    "Para resolver a tarefa, podemos tentar diferentes métricas de distância."
   ]
  },
  {
   "cell_type": "markdown",
   "metadata": {},
   "source": [
    "Escreva uma função que retorne k vizinhos mais próximos para um n-ésimo objeto com base em uma métrica de distância especificada. O número de pagamentos de seguro recebidos não deve ser levado em consideração para esta tarefa. \n",
    "\n",
    "Você pode usar uma implementação pronta do algoritmo kNN do scikit-learn (verifique [o link](https://scikit-learn.org/stable/modules/generated/sklearn.neighbors.NearestNeighbors.html#sklearn.neighbors.NearestNeighbors)) ou usar a sua própria.\n",
    "Teste-o para quatro combinações de dois casos\n",
    "- Escalabilidade\n",
    "  - os dados não são escalados\n",
    "  - os dados escalados com o escalonador [MaxAbsScaler](https://scikit-learn.org/stable/modules/generated/sklearn.preprocessing.MaxAbsScaler.html) \n",
    "- Métricas de distância\n",
    "  - Euclidiana\n",
    "  - Manhattan\n",
    "\n",
    "Responda às perguntas:\n",
    "- Os dados não escalados afetam o algoritmo kNN? Se sim, como isso acontece?\n",
    "-Quão semelhantes são os resultados usando a métrica de distância de Manhattan (independentemente da escalabilidade)?"
   ]
  },
  {
   "cell_type": "code",
   "execution_count": 12,
   "metadata": {},
   "outputs": [],
   "source": [
    "feature_names = ['gender', 'age', 'income', 'family_members']\n",
    "target = 'insurance_benefits'"
   ]
  },
  {
   "cell_type": "code",
   "execution_count": 13,
   "metadata": {},
   "outputs": [],
   "source": [
    "def get_knn(df, n, k, metric):\n",
    "    \n",
    "    \"\"\"\n",
    "    Retorna os vizinhos mais próximos de k\n",
    "\n",
    "    :param df: DataFrame pandas usado para encontrar objetos semelhantes dentro de\n",
    "    :param n: número do objeto pelo qual os vizinhos mais próximos são procurados\n",
    "    :param k: o número dos vizinhos mais próximos a serem retornados\n",
    "    :param metric: nome da métrica de distância    \"\"\"\n",
    "\n",
    "    nbrs = sklearn.neighbors.KNeighborsRegressor(n_neighbors=k, metric=metric).fit(df[feature_names], df[target]) # <escreva seu código aqui> \n",
    "    nbrs_distances, nbrs_indices = nbrs.kneighbors(X=[df.iloc[n][feature_names]], n_neighbors=k, return_distance=True)\n",
    "    \n",
    "    df_res = pd.concat([\n",
    "        df.iloc[nbrs_indices[0]], \n",
    "        pd.DataFrame(nbrs_distances.T, index=nbrs_indices[0], columns=['distance'])\n",
    "        ], axis=1)\n",
    "    \n",
    "    return df_res"
   ]
  },
  {
   "cell_type": "markdown",
   "metadata": {},
   "source": [
    "Escalando os dados"
   ]
  },
  {
   "cell_type": "code",
   "execution_count": 14,
   "metadata": {},
   "outputs": [],
   "source": [
    "feature_names = ['gender', 'age', 'income', 'family_members']\n",
    "\n",
    "transformer_mas = sklearn.preprocessing.MaxAbsScaler().fit(df[feature_names].to_numpy())\n",
    "\n",
    "df_scaled = df.copy()\n",
    "df_scaled.loc[:, feature_names] = transformer_mas.transform(df[feature_names].to_numpy())"
   ]
  },
  {
   "cell_type": "code",
   "execution_count": 15,
   "metadata": {},
   "outputs": [
    {
     "data": {
      "text/html": [
       "<div>\n",
       "<style scoped>\n",
       "    .dataframe tbody tr th:only-of-type {\n",
       "        vertical-align: middle;\n",
       "    }\n",
       "\n",
       "    .dataframe tbody tr th {\n",
       "        vertical-align: top;\n",
       "    }\n",
       "\n",
       "    .dataframe thead th {\n",
       "        text-align: right;\n",
       "    }\n",
       "</style>\n",
       "<table border=\"1\" class=\"dataframe\">\n",
       "  <thead>\n",
       "    <tr style=\"text-align: right;\">\n",
       "      <th></th>\n",
       "      <th>gender</th>\n",
       "      <th>age</th>\n",
       "      <th>income</th>\n",
       "      <th>family_members</th>\n",
       "      <th>insurance_benefits</th>\n",
       "    </tr>\n",
       "  </thead>\n",
       "  <tbody>\n",
       "    <tr>\n",
       "      <th>3987</th>\n",
       "      <td>1.0</td>\n",
       "      <td>0.461538</td>\n",
       "      <td>0.182278</td>\n",
       "      <td>0.333333</td>\n",
       "      <td>0</td>\n",
       "    </tr>\n",
       "    <tr>\n",
       "      <th>3679</th>\n",
       "      <td>0.0</td>\n",
       "      <td>0.676923</td>\n",
       "      <td>0.365823</td>\n",
       "      <td>0.000000</td>\n",
       "      <td>1</td>\n",
       "    </tr>\n",
       "    <tr>\n",
       "      <th>4620</th>\n",
       "      <td>1.0</td>\n",
       "      <td>0.446154</td>\n",
       "      <td>0.524051</td>\n",
       "      <td>0.666667</td>\n",
       "      <td>0</td>\n",
       "    </tr>\n",
       "    <tr>\n",
       "      <th>305</th>\n",
       "      <td>1.0</td>\n",
       "      <td>0.415385</td>\n",
       "      <td>0.601266</td>\n",
       "      <td>0.500000</td>\n",
       "      <td>0</td>\n",
       "    </tr>\n",
       "    <tr>\n",
       "      <th>4152</th>\n",
       "      <td>0.0</td>\n",
       "      <td>0.400000</td>\n",
       "      <td>0.548101</td>\n",
       "      <td>0.333333</td>\n",
       "      <td>0</td>\n",
       "    </tr>\n",
       "  </tbody>\n",
       "</table>\n",
       "</div>"
      ],
      "text/plain": [
       "      gender       age    income  family_members  insurance_benefits\n",
       "3987     1.0  0.461538  0.182278        0.333333                   0\n",
       "3679     0.0  0.676923  0.365823        0.000000                   1\n",
       "4620     1.0  0.446154  0.524051        0.666667                   0\n",
       "305      1.0  0.415385  0.601266        0.500000                   0\n",
       "4152     0.0  0.400000  0.548101        0.333333                   0"
      ]
     },
     "execution_count": 15,
     "metadata": {},
     "output_type": "execute_result"
    }
   ],
   "source": [
    "df_scaled.sample(5)"
   ]
  },
  {
   "cell_type": "markdown",
   "metadata": {},
   "source": [
    "Agora, vamos obter registros semelhantes para um determinado registro para cada combinação"
   ]
  },
  {
   "cell_type": "code",
   "execution_count": 16,
   "metadata": {},
   "outputs": [
    {
     "data": {
      "text/html": [
       "<div>\n",
       "<style scoped>\n",
       "    .dataframe tbody tr th:only-of-type {\n",
       "        vertical-align: middle;\n",
       "    }\n",
       "\n",
       "    .dataframe tbody tr th {\n",
       "        vertical-align: top;\n",
       "    }\n",
       "\n",
       "    .dataframe thead th {\n",
       "        text-align: right;\n",
       "    }\n",
       "</style>\n",
       "<table border=\"1\" class=\"dataframe\">\n",
       "  <thead>\n",
       "    <tr style=\"text-align: right;\">\n",
       "      <th></th>\n",
       "      <th>gender</th>\n",
       "      <th>age</th>\n",
       "      <th>income</th>\n",
       "      <th>family_members</th>\n",
       "      <th>insurance_benefits</th>\n",
       "      <th>distance</th>\n",
       "    </tr>\n",
       "  </thead>\n",
       "  <tbody>\n",
       "    <tr>\n",
       "      <th>263</th>\n",
       "      <td>0</td>\n",
       "      <td>43</td>\n",
       "      <td>36000.0</td>\n",
       "      <td>1</td>\n",
       "      <td>1</td>\n",
       "      <td>0.000000</td>\n",
       "    </tr>\n",
       "    <tr>\n",
       "      <th>531</th>\n",
       "      <td>0</td>\n",
       "      <td>41</td>\n",
       "      <td>36000.0</td>\n",
       "      <td>1</td>\n",
       "      <td>0</td>\n",
       "      <td>2.000000</td>\n",
       "    </tr>\n",
       "    <tr>\n",
       "      <th>2092</th>\n",
       "      <td>0</td>\n",
       "      <td>42</td>\n",
       "      <td>36000.0</td>\n",
       "      <td>3</td>\n",
       "      <td>0</td>\n",
       "      <td>2.236068</td>\n",
       "    </tr>\n",
       "    <tr>\n",
       "      <th>1249</th>\n",
       "      <td>1</td>\n",
       "      <td>41</td>\n",
       "      <td>36000.0</td>\n",
       "      <td>3</td>\n",
       "      <td>0</td>\n",
       "      <td>3.000000</td>\n",
       "    </tr>\n",
       "    <tr>\n",
       "      <th>286</th>\n",
       "      <td>0</td>\n",
       "      <td>39</td>\n",
       "      <td>36000.0</td>\n",
       "      <td>0</td>\n",
       "      <td>0</td>\n",
       "      <td>4.123106</td>\n",
       "    </tr>\n",
       "    <tr>\n",
       "      <th>2161</th>\n",
       "      <td>1</td>\n",
       "      <td>39</td>\n",
       "      <td>36000.0</td>\n",
       "      <td>0</td>\n",
       "      <td>0</td>\n",
       "      <td>4.242641</td>\n",
       "    </tr>\n",
       "  </tbody>\n",
       "</table>\n",
       "</div>"
      ],
      "text/plain": [
       "      gender  age   income  family_members  insurance_benefits  distance\n",
       "263        0   43  36000.0               1                   1  0.000000\n",
       "531        0   41  36000.0               1                   0  2.000000\n",
       "2092       0   42  36000.0               3                   0  2.236068\n",
       "1249       1   41  36000.0               3                   0  3.000000\n",
       "286        0   39  36000.0               0                   0  4.123106\n",
       "2161       1   39  36000.0               0                   0  4.242641"
      ]
     },
     "execution_count": 16,
     "metadata": {},
     "output_type": "execute_result"
    }
   ],
   "source": [
    "# Teste para dados não escalados, distância Euclidiana:\n",
    "not_scaled_results = get_knn(df, 263, 6, 'euclidean')\n",
    "not_scaled_results"
   ]
  },
  {
   "cell_type": "code",
   "execution_count": 17,
   "metadata": {},
   "outputs": [
    {
     "data": {
      "text/html": [
       "<div>\n",
       "<style scoped>\n",
       "    .dataframe tbody tr th:only-of-type {\n",
       "        vertical-align: middle;\n",
       "    }\n",
       "\n",
       "    .dataframe tbody tr th {\n",
       "        vertical-align: top;\n",
       "    }\n",
       "\n",
       "    .dataframe thead th {\n",
       "        text-align: right;\n",
       "    }\n",
       "</style>\n",
       "<table border=\"1\" class=\"dataframe\">\n",
       "  <thead>\n",
       "    <tr style=\"text-align: right;\">\n",
       "      <th></th>\n",
       "      <th>gender</th>\n",
       "      <th>age</th>\n",
       "      <th>income</th>\n",
       "      <th>family_members</th>\n",
       "      <th>insurance_benefits</th>\n",
       "      <th>distance</th>\n",
       "    </tr>\n",
       "  </thead>\n",
       "  <tbody>\n",
       "    <tr>\n",
       "      <th>263</th>\n",
       "      <td>0.0</td>\n",
       "      <td>0.661538</td>\n",
       "      <td>0.455696</td>\n",
       "      <td>0.166667</td>\n",
       "      <td>1</td>\n",
       "      <td>0.000000</td>\n",
       "    </tr>\n",
       "    <tr>\n",
       "      <th>4847</th>\n",
       "      <td>0.0</td>\n",
       "      <td>0.661538</td>\n",
       "      <td>0.463291</td>\n",
       "      <td>0.166667</td>\n",
       "      <td>1</td>\n",
       "      <td>0.007595</td>\n",
       "    </tr>\n",
       "    <tr>\n",
       "      <th>3008</th>\n",
       "      <td>0.0</td>\n",
       "      <td>0.676923</td>\n",
       "      <td>0.453165</td>\n",
       "      <td>0.166667</td>\n",
       "      <td>1</td>\n",
       "      <td>0.015592</td>\n",
       "    </tr>\n",
       "    <tr>\n",
       "      <th>4298</th>\n",
       "      <td>0.0</td>\n",
       "      <td>0.661538</td>\n",
       "      <td>0.472152</td>\n",
       "      <td>0.166667</td>\n",
       "      <td>1</td>\n",
       "      <td>0.016456</td>\n",
       "    </tr>\n",
       "    <tr>\n",
       "      <th>1757</th>\n",
       "      <td>0.0</td>\n",
       "      <td>0.646154</td>\n",
       "      <td>0.449367</td>\n",
       "      <td>0.166667</td>\n",
       "      <td>1</td>\n",
       "      <td>0.016636</td>\n",
       "    </tr>\n",
       "    <tr>\n",
       "      <th>4058</th>\n",
       "      <td>0.0</td>\n",
       "      <td>0.646154</td>\n",
       "      <td>0.462025</td>\n",
       "      <td>0.166667</td>\n",
       "      <td>1</td>\n",
       "      <td>0.016636</td>\n",
       "    </tr>\n",
       "  </tbody>\n",
       "</table>\n",
       "</div>"
      ],
      "text/plain": [
       "      gender       age    income  family_members  insurance_benefits  distance\n",
       "263      0.0  0.661538  0.455696        0.166667                   1  0.000000\n",
       "4847     0.0  0.661538  0.463291        0.166667                   1  0.007595\n",
       "3008     0.0  0.676923  0.453165        0.166667                   1  0.015592\n",
       "4298     0.0  0.661538  0.472152        0.166667                   1  0.016456\n",
       "1757     0.0  0.646154  0.449367        0.166667                   1  0.016636\n",
       "4058     0.0  0.646154  0.462025        0.166667                   1  0.016636"
      ]
     },
     "execution_count": 17,
     "metadata": {},
     "output_type": "execute_result"
    }
   ],
   "source": [
    "# Teste para dados escalados, distância Euclidiana:\n",
    "scaled_results = get_knn(df_scaled, 263, 6, 'euclidean')\n",
    "scaled_results"
   ]
  },
  {
   "cell_type": "code",
   "execution_count": 18,
   "metadata": {},
   "outputs": [
    {
     "data": {
      "text/html": [
       "<div>\n",
       "<style scoped>\n",
       "    .dataframe tbody tr th:only-of-type {\n",
       "        vertical-align: middle;\n",
       "    }\n",
       "\n",
       "    .dataframe tbody tr th {\n",
       "        vertical-align: top;\n",
       "    }\n",
       "\n",
       "    .dataframe thead th {\n",
       "        text-align: right;\n",
       "    }\n",
       "</style>\n",
       "<table border=\"1\" class=\"dataframe\">\n",
       "  <thead>\n",
       "    <tr style=\"text-align: right;\">\n",
       "      <th></th>\n",
       "      <th>gender</th>\n",
       "      <th>age</th>\n",
       "      <th>income</th>\n",
       "      <th>family_members</th>\n",
       "      <th>insurance_benefits</th>\n",
       "      <th>distance</th>\n",
       "    </tr>\n",
       "  </thead>\n",
       "  <tbody>\n",
       "    <tr>\n",
       "      <th>263</th>\n",
       "      <td>0</td>\n",
       "      <td>43</td>\n",
       "      <td>36000.0</td>\n",
       "      <td>1</td>\n",
       "      <td>1</td>\n",
       "      <td>0.0</td>\n",
       "    </tr>\n",
       "    <tr>\n",
       "      <th>531</th>\n",
       "      <td>0</td>\n",
       "      <td>41</td>\n",
       "      <td>36000.0</td>\n",
       "      <td>1</td>\n",
       "      <td>0</td>\n",
       "      <td>2.0</td>\n",
       "    </tr>\n",
       "    <tr>\n",
       "      <th>2092</th>\n",
       "      <td>0</td>\n",
       "      <td>42</td>\n",
       "      <td>36000.0</td>\n",
       "      <td>3</td>\n",
       "      <td>0</td>\n",
       "      <td>3.0</td>\n",
       "    </tr>\n",
       "    <tr>\n",
       "      <th>286</th>\n",
       "      <td>0</td>\n",
       "      <td>39</td>\n",
       "      <td>36000.0</td>\n",
       "      <td>0</td>\n",
       "      <td>0</td>\n",
       "      <td>5.0</td>\n",
       "    </tr>\n",
       "    <tr>\n",
       "      <th>1249</th>\n",
       "      <td>1</td>\n",
       "      <td>41</td>\n",
       "      <td>36000.0</td>\n",
       "      <td>3</td>\n",
       "      <td>0</td>\n",
       "      <td>5.0</td>\n",
       "    </tr>\n",
       "    <tr>\n",
       "      <th>2161</th>\n",
       "      <td>1</td>\n",
       "      <td>39</td>\n",
       "      <td>36000.0</td>\n",
       "      <td>0</td>\n",
       "      <td>0</td>\n",
       "      <td>6.0</td>\n",
       "    </tr>\n",
       "  </tbody>\n",
       "</table>\n",
       "</div>"
      ],
      "text/plain": [
       "      gender  age   income  family_members  insurance_benefits  distance\n",
       "263        0   43  36000.0               1                   1       0.0\n",
       "531        0   41  36000.0               1                   0       2.0\n",
       "2092       0   42  36000.0               3                   0       3.0\n",
       "286        0   39  36000.0               0                   0       5.0\n",
       "1249       1   41  36000.0               3                   0       5.0\n",
       "2161       1   39  36000.0               0                   0       6.0"
      ]
     },
     "execution_count": 18,
     "metadata": {},
     "output_type": "execute_result"
    }
   ],
   "source": [
    "# Teste para dados não escalados, distância Manhattan:\n",
    "manh_not_scaled_results = get_knn(df, 263, 6, 'cityblock')\n",
    "manh_not_scaled_results"
   ]
  },
  {
   "cell_type": "code",
   "execution_count": 19,
   "metadata": {},
   "outputs": [
    {
     "data": {
      "text/html": [
       "<div>\n",
       "<style scoped>\n",
       "    .dataframe tbody tr th:only-of-type {\n",
       "        vertical-align: middle;\n",
       "    }\n",
       "\n",
       "    .dataframe tbody tr th {\n",
       "        vertical-align: top;\n",
       "    }\n",
       "\n",
       "    .dataframe thead th {\n",
       "        text-align: right;\n",
       "    }\n",
       "</style>\n",
       "<table border=\"1\" class=\"dataframe\">\n",
       "  <thead>\n",
       "    <tr style=\"text-align: right;\">\n",
       "      <th></th>\n",
       "      <th>gender</th>\n",
       "      <th>age</th>\n",
       "      <th>income</th>\n",
       "      <th>family_members</th>\n",
       "      <th>insurance_benefits</th>\n",
       "      <th>distance</th>\n",
       "    </tr>\n",
       "  </thead>\n",
       "  <tbody>\n",
       "    <tr>\n",
       "      <th>263</th>\n",
       "      <td>0.0</td>\n",
       "      <td>0.661538</td>\n",
       "      <td>0.455696</td>\n",
       "      <td>0.166667</td>\n",
       "      <td>1</td>\n",
       "      <td>0.000000</td>\n",
       "    </tr>\n",
       "    <tr>\n",
       "      <th>4847</th>\n",
       "      <td>0.0</td>\n",
       "      <td>0.661538</td>\n",
       "      <td>0.463291</td>\n",
       "      <td>0.166667</td>\n",
       "      <td>1</td>\n",
       "      <td>0.007595</td>\n",
       "    </tr>\n",
       "    <tr>\n",
       "      <th>4298</th>\n",
       "      <td>0.0</td>\n",
       "      <td>0.661538</td>\n",
       "      <td>0.472152</td>\n",
       "      <td>0.166667</td>\n",
       "      <td>1</td>\n",
       "      <td>0.016456</td>\n",
       "    </tr>\n",
       "    <tr>\n",
       "      <th>3008</th>\n",
       "      <td>0.0</td>\n",
       "      <td>0.676923</td>\n",
       "      <td>0.453165</td>\n",
       "      <td>0.166667</td>\n",
       "      <td>1</td>\n",
       "      <td>0.017916</td>\n",
       "    </tr>\n",
       "    <tr>\n",
       "      <th>1757</th>\n",
       "      <td>0.0</td>\n",
       "      <td>0.646154</td>\n",
       "      <td>0.449367</td>\n",
       "      <td>0.166667</td>\n",
       "      <td>1</td>\n",
       "      <td>0.021714</td>\n",
       "    </tr>\n",
       "    <tr>\n",
       "      <th>4058</th>\n",
       "      <td>0.0</td>\n",
       "      <td>0.646154</td>\n",
       "      <td>0.462025</td>\n",
       "      <td>0.166667</td>\n",
       "      <td>1</td>\n",
       "      <td>0.021714</td>\n",
       "    </tr>\n",
       "  </tbody>\n",
       "</table>\n",
       "</div>"
      ],
      "text/plain": [
       "      gender       age    income  family_members  insurance_benefits  distance\n",
       "263      0.0  0.661538  0.455696        0.166667                   1  0.000000\n",
       "4847     0.0  0.661538  0.463291        0.166667                   1  0.007595\n",
       "4298     0.0  0.661538  0.472152        0.166667                   1  0.016456\n",
       "3008     0.0  0.676923  0.453165        0.166667                   1  0.017916\n",
       "1757     0.0  0.646154  0.449367        0.166667                   1  0.021714\n",
       "4058     0.0  0.646154  0.462025        0.166667                   1  0.021714"
      ]
     },
     "execution_count": 19,
     "metadata": {},
     "output_type": "execute_result"
    }
   ],
   "source": [
    "# Teste para dados escalados, distância Manhattan:\n",
    "manh_scaled_results = get_knn(df_scaled, 263, 6, 'cityblock')\n",
    "manh_scaled_results"
   ]
  },
  {
   "cell_type": "markdown",
   "metadata": {},
   "source": [
    "Respostas para as perguntas"
   ]
  },
  {
   "cell_type": "markdown",
   "metadata": {},
   "source": [
    "**Os dados não escalados afetam o algoritmo kNN? Se sim, como isso acontece?** \n",
    "\n",
    "Sim, os dados não escalados afetam o algoritmo kNN negativamente, os resultados mais próximos ficam a uma 'distância' muito maior do que quando os dados são escalados e o objetivo (requisição de benefícios do seguro) diferem do dado inicial."
   ]
  },
  {
   "cell_type": "markdown",
   "metadata": {},
   "source": [
    "**Quão semelhantes são os resultados usando a métrica de distância de Manhattan (independentemente da escalabilidade)?** \n",
    "\n",
    "A escalabilidade, sem dúvidas, impacta mais os resultados do que a métrica de distância escolhida, porém, todos os resultados calculados pela distância Manhattan são ligeiramente mais distantes do que os calculados pela distância Euclideana.\n",
    "\n",
    "Ambas as métricas de distâncias resultam nos mesmos k vizinhos mais próximos, alternando um ou outro a partir do terceiro mais próximo."
   ]
  },
  {
   "cell_type": "markdown",
   "metadata": {},
   "source": [
    "<div class=\"alert alert-block alert-success\">\n",
    "\n",
    "<b>Comentário: </b> <a class=\"tocSkip\"></a>\n",
    "\n",
    "Tarefa realizada com sucesso: \n",
    "- Dados foram escalonados perfeitamente\n",
    "- O modelo Knn foi aplicado\n",
    "- Comentários pertinentes à análise foram adicionados \n",
    "</div>"
   ]
  },
  {
   "cell_type": "markdown",
   "metadata": {},
   "source": [
    "# Tarefa 2. É provável que o cliente receba um pagamento do seguro?"
   ]
  },
  {
   "cell_type": "markdown",
   "metadata": {},
   "source": [
    "Em termos de aprendizado de máquina, podemos olhar para isso como uma tarefa de classificação binária."
   ]
  },
  {
   "cell_type": "markdown",
   "metadata": {},
   "source": [
    "Com os pagamentos de seguro sendo mais do que zero como objetivo, avalie se a abordagem da classificação kNN pode ser melhor do que um modelo dummy.\n",
    "\n",
    "Instruções:\n",
    "- Construa um classificador baseado em kNN e meça sua qualidade com a métrica F1 para k=1..10 tanto para os dados originais quanto para os escalados. Seria interessante ver como k pode influenciar a métrica de avaliação e se a escalabilidade dos dados faz alguma diferença. Você pode usar uma implementação pronta do algoritmo de classificação kNN do scikit-learn (verifique [o link](https://scikit-learn.org/stable/modules/generated/sklearn.neighbors.KNeighborsClassifier.html)) ou usar a sua própria.\n",
    "- Construa o modelo dummy, que é aleatório para este caso. Deve retornar com alguma probabilidade o valor \"1\". Vamos testar o modelo com quatro valores de probabilidade: 0, a probabilidade de fazer qualquer pagamento de seguro, 0,5, 1.\n",
    "\n",
    "A probabilidade de fazer qualquer pagamento de seguro pode ser definida como\n",
    "\n",
    "$$\n",
    "P = \\text{Pagamento de seguro recebido}= \\frac{\\text{Número de clientes que receberam qualquer pagamento de seguro}}{\\text{Número total de clientes}}.\n",
    "$$\n",
    "\n",
    "Divida os dados inteiros na proporção 70:30 para as partes de treinamento/teste."
   ]
  },
  {
   "cell_type": "code",
   "execution_count": 20,
   "metadata": {},
   "outputs": [],
   "source": [
    "# calcule a meta\n",
    "df['insurance_benefits_received'] = df['insurance_benefits'].apply(lambda x: 1 if x > 0 else 0) #<seu código aqui>"
   ]
  },
  {
   "cell_type": "code",
   "execution_count": 21,
   "metadata": {},
   "outputs": [
    {
     "data": {
      "text/plain": [
       "0    4436\n",
       "1     564\n",
       "Name: insurance_benefits_received, dtype: int64"
      ]
     },
     "execution_count": 21,
     "metadata": {},
     "output_type": "execute_result"
    }
   ],
   "source": [
    "# verifique o desequilíbrio de classe com value_counts()\n",
    "\n",
    "# <seu código aqui>\n",
    "df['insurance_benefits_received'].value_counts()"
   ]
  },
  {
   "cell_type": "markdown",
   "metadata": {},
   "source": [
    "- [x] **Há um desequilíbro significativo entre as classes (quase 8 para 1).**"
   ]
  },
  {
   "cell_type": "code",
   "execution_count": 22,
   "metadata": {},
   "outputs": [],
   "source": [
    "def eval_classifier(y_true, y_pred):\n",
    "    \n",
    "    f1_score = sklearn.metrics.f1_score(y_true, y_pred)\n",
    "    print(f'F1: {f1_score:.2f}')\n",
    "    \n",
    "# se você tiver um problema com a linha a seguir, reinicie o kernel e execute o caderno novamente\n",
    "    cm = sklearn.metrics.confusion_matrix(y_true, y_pred, normalize='all')\n",
    "    print('Matriz de Confusão')\n",
    "    print(cm)\n",
    "    return {'f1' : f1_score, 'confusion matrix': cm}"
   ]
  },
  {
   "cell_type": "code",
   "execution_count": 23,
   "metadata": {},
   "outputs": [],
   "source": [
    "# gerando saída de um modelo aleatório\n",
    "\n",
    "def rnd_model_predict(P, size, seed=42):\n",
    "    \"\"\"\n",
    "    Gera previsões binárias com base em uma distribuição binomial.\n",
    "\n",
    "    Esta função utiliza uma distribuição binomial para simular previsões de um modelo.\n",
    "    Os valores preditos são gerados como 0 ou 1, onde a probabilidade de 1 é dada por `P`.\n",
    "\n",
    "    Parâmetros:\n",
    "    -----------\n",
    "    P : float\n",
    "        Probabilidade de sucesso (valor 1) para cada experimento da distribuição binomial. \n",
    "        Deve estar no intervalo [0, 1].\n",
    "    size : int\n",
    "        Número de previsões a serem geradas.\n",
    "    seed : int, opcional, padrão=42\n",
    "        Semente para o gerador de números aleatórios, garantindo reprodutibilidade dos resultados.\n",
    "\n",
    "    Retorno:\n",
    "    --------\n",
    "    np.ndarray\n",
    "        Um array de tamanho `size` contendo os valores 0 ou 1 gerados pela distribuição binomial.\n",
    "\n",
    "    Exemplo de Uso:\n",
    "    ---------------\n",
    "    >>> import numpy as np\n",
    "    >>> rnd_model_predict(0.7, 10, seed=123)\n",
    "    array([1, 1, 1, 1, 1, 1, 1, 0, 1, 1])\n",
    "    \"\"\"\n",
    "\n",
    "    rng = np.random.default_rng(seed=seed)\n",
    "    return rng.binomial(n=1, p=P, size=size)"
   ]
  },
  {
   "cell_type": "code",
   "execution_count": 24,
   "metadata": {},
   "outputs": [
    {
     "name": "stdout",
     "output_type": "stream",
     "text": [
      "A probabilidade: 0.00\n",
      "F1: 0.00\n",
      "Matriz de Confusão\n",
      "[[0.8872 0.    ]\n",
      " [0.1128 0.    ]]\n",
      "\n",
      "A probabilidade: 0.11\n",
      "F1: 0.12\n",
      "Matriz de Confusão\n",
      "[[0.7914 0.0958]\n",
      " [0.0994 0.0134]]\n",
      "\n",
      "A probabilidade: 0.50\n",
      "F1: 0.20\n",
      "Matriz de Confusão\n",
      "[[0.456  0.4312]\n",
      " [0.053  0.0598]]\n",
      "\n",
      "A probabilidade: 1.00\n",
      "F1: 0.20\n",
      "Matriz de Confusão\n",
      "[[0.     0.8872]\n",
      " [0.     0.1128]]\n",
      "\n"
     ]
    }
   ],
   "source": [
    "# Treinando e testando modelo dummy\n",
    "\n",
    "for P in [0, df['insurance_benefits_received'].sum() / len(df), 0.5, 1]:\n",
    "\n",
    "    print(f'A probabilidade: {P:.2f}')\n",
    "    y_pred_rnd = rnd_model_predict(P, len(df)) # <seu código aqui>\n",
    "        \n",
    "    eval_classifier(df['insurance_benefits_received'], y_pred_rnd)\n",
    "    \n",
    "    print()"
   ]
  },
  {
   "attachments": {
    "image.png": {
     "image/png": "[encoded data removed]"
    }
   },
   "cell_type": "markdown",
   "metadata": {},
   "source": [
    "<div class=\"alert alert-block alert-warning\">\n",
    "\n",
    "<b>Comentário: </b> <a class=\"tocSkip\"></a>\n",
    "\n",
    "Ambos os modelos foram aplicados corretamente. Sugestão: Caso queira visualizar as matrizes de confusão em forma gráfica, é possível utilizar a função heatmap da biblioteca seaborn:\n",
    "    \n",
    "\n",
    " ![image.png](attachment:image.png)   \n",
    "    \n",
    "Saiba mais em: https://seaborn.pydata.org/generated/seaborn.heatmap.html \n",
    "</div>"
   ]
  },
  {
   "cell_type": "markdown",
   "metadata": {},
   "source": [
    "- [x] **No modelo aleatório o maior valor de F1 foi de 0,20 considerado muito baixo.**"
   ]
  },
  {
   "cell_type": "code",
   "execution_count": 25,
   "metadata": {},
   "outputs": [],
   "source": [
    "# Criando classificador kNN:\n",
    "\n",
    "def knn_predictions(df_train, df_test, k, metric):\n",
    "    \"\"\"\n",
    "    Retorna as previsões para o modelo de classificador de vizinhos mais próximos\n",
    "    \n",
    "    :param df_train: DataFrame pandas usado para treinar o modelo\n",
    "    :param df_test: DataFrame pandas do conjunto de testes\n",
    "    :param k: número de vizinhos mais próximos a serem considerados nos cálculos do modelo\n",
    "    :param metric: nome da métrica de distância \"\"\"\n",
    "    \n",
    "    model = sklearn.neighbors.KNeighborsClassifier(n_neighbors=k, metric=metric)\n",
    "    model.fit(df_train[feature_names], df['insurance_benefits_received'].loc[df_train.index])\n",
    "    \n",
    "    predictions = model.predict(df_test[feature_names])\n",
    "    \n",
    "    return predictions"
   ]
  },
  {
   "cell_type": "code",
   "execution_count": 26,
   "metadata": {},
   "outputs": [],
   "source": [
    "# Dividindos os dados em conjuntos de treinamento e teste:\n",
    "\n",
    "df_train, df_test, df_scaled_train, df_scaled_test = train_test_split(df, df_scaled, test_size=0.3, random_state=123)"
   ]
  },
  {
   "cell_type": "code",
   "execution_count": 27,
   "metadata": {},
   "outputs": [],
   "source": [
    "def eval_classifier_silent(func, target, predictions):\n",
    "    with contextlib.redirect_stdout(io.StringIO()):\n",
    "        return func(target, predictions)"
   ]
  },
  {
   "cell_type": "code",
   "execution_count": 28,
   "metadata": {},
   "outputs": [
    {
     "name": "stdout",
     "output_type": "stream",
     "text": [
      "Dados não escalados:\n"
     ]
    },
    {
     "data": {
      "text/html": [
       "<div>\n",
       "<style scoped>\n",
       "    .dataframe tbody tr th:only-of-type {\n",
       "        vertical-align: middle;\n",
       "    }\n",
       "\n",
       "    .dataframe tbody tr th {\n",
       "        vertical-align: top;\n",
       "    }\n",
       "\n",
       "    .dataframe thead th {\n",
       "        text-align: right;\n",
       "    }\n",
       "</style>\n",
       "<table border=\"1\" class=\"dataframe\">\n",
       "  <thead>\n",
       "    <tr style=\"text-align: right;\">\n",
       "      <th></th>\n",
       "      <th>metric</th>\n",
       "      <th>k</th>\n",
       "      <th>f1_score</th>\n",
       "      <th>tn</th>\n",
       "      <th>fp</th>\n",
       "      <th>fn</th>\n",
       "      <th>tp</th>\n",
       "    </tr>\n",
       "  </thead>\n",
       "  <tbody>\n",
       "    <tr>\n",
       "      <th>0</th>\n",
       "      <td>euclidean</td>\n",
       "      <td>1</td>\n",
       "      <td>0.666667</td>\n",
       "      <td>0.868000</td>\n",
       "      <td>0.018667</td>\n",
       "      <td>0.047333</td>\n",
       "      <td>0.066000</td>\n",
       "    </tr>\n",
       "    <tr>\n",
       "      <th>10</th>\n",
       "      <td>cityblock</td>\n",
       "      <td>1</td>\n",
       "      <td>0.657718</td>\n",
       "      <td>0.866667</td>\n",
       "      <td>0.020000</td>\n",
       "      <td>0.048000</td>\n",
       "      <td>0.065333</td>\n",
       "    </tr>\n",
       "    <tr>\n",
       "      <th>12</th>\n",
       "      <td>cityblock</td>\n",
       "      <td>3</td>\n",
       "      <td>0.410042</td>\n",
       "      <td>0.873333</td>\n",
       "      <td>0.013333</td>\n",
       "      <td>0.080667</td>\n",
       "      <td>0.032667</td>\n",
       "    </tr>\n",
       "    <tr>\n",
       "      <th>2</th>\n",
       "      <td>euclidean</td>\n",
       "      <td>3</td>\n",
       "      <td>0.408333</td>\n",
       "      <td>0.872667</td>\n",
       "      <td>0.014000</td>\n",
       "      <td>0.080667</td>\n",
       "      <td>0.032667</td>\n",
       "    </tr>\n",
       "    <tr>\n",
       "      <th>1</th>\n",
       "      <td>euclidean</td>\n",
       "      <td>2</td>\n",
       "      <td>0.401786</td>\n",
       "      <td>0.880667</td>\n",
       "      <td>0.006000</td>\n",
       "      <td>0.083333</td>\n",
       "      <td>0.030000</td>\n",
       "    </tr>\n",
       "    <tr>\n",
       "      <th>11</th>\n",
       "      <td>cityblock</td>\n",
       "      <td>2</td>\n",
       "      <td>0.394619</td>\n",
       "      <td>0.880667</td>\n",
       "      <td>0.006000</td>\n",
       "      <td>0.084000</td>\n",
       "      <td>0.029333</td>\n",
       "    </tr>\n",
       "    <tr>\n",
       "      <th>14</th>\n",
       "      <td>cityblock</td>\n",
       "      <td>5</td>\n",
       "      <td>0.232323</td>\n",
       "      <td>0.883333</td>\n",
       "      <td>0.003333</td>\n",
       "      <td>0.098000</td>\n",
       "      <td>0.015333</td>\n",
       "    </tr>\n",
       "    <tr>\n",
       "      <th>4</th>\n",
       "      <td>euclidean</td>\n",
       "      <td>5</td>\n",
       "      <td>0.231156</td>\n",
       "      <td>0.882667</td>\n",
       "      <td>0.004000</td>\n",
       "      <td>0.098000</td>\n",
       "      <td>0.015333</td>\n",
       "    </tr>\n",
       "    <tr>\n",
       "      <th>3</th>\n",
       "      <td>euclidean</td>\n",
       "      <td>4</td>\n",
       "      <td>0.196891</td>\n",
       "      <td>0.884000</td>\n",
       "      <td>0.002667</td>\n",
       "      <td>0.100667</td>\n",
       "      <td>0.012667</td>\n",
       "    </tr>\n",
       "    <tr>\n",
       "      <th>13</th>\n",
       "      <td>cityblock</td>\n",
       "      <td>4</td>\n",
       "      <td>0.196891</td>\n",
       "      <td>0.884000</td>\n",
       "      <td>0.002667</td>\n",
       "      <td>0.100667</td>\n",
       "      <td>0.012667</td>\n",
       "    </tr>\n",
       "    <tr>\n",
       "      <th>5</th>\n",
       "      <td>euclidean</td>\n",
       "      <td>6</td>\n",
       "      <td>0.140541</td>\n",
       "      <td>0.885333</td>\n",
       "      <td>0.001333</td>\n",
       "      <td>0.104667</td>\n",
       "      <td>0.008667</td>\n",
       "    </tr>\n",
       "    <tr>\n",
       "      <th>6</th>\n",
       "      <td>euclidean</td>\n",
       "      <td>7</td>\n",
       "      <td>0.139785</td>\n",
       "      <td>0.884667</td>\n",
       "      <td>0.002000</td>\n",
       "      <td>0.104667</td>\n",
       "      <td>0.008667</td>\n",
       "    </tr>\n",
       "    <tr>\n",
       "      <th>16</th>\n",
       "      <td>cityblock</td>\n",
       "      <td>7</td>\n",
       "      <td>0.139785</td>\n",
       "      <td>0.884667</td>\n",
       "      <td>0.002000</td>\n",
       "      <td>0.104667</td>\n",
       "      <td>0.008667</td>\n",
       "    </tr>\n",
       "    <tr>\n",
       "      <th>15</th>\n",
       "      <td>cityblock</td>\n",
       "      <td>6</td>\n",
       "      <td>0.130435</td>\n",
       "      <td>0.885333</td>\n",
       "      <td>0.001333</td>\n",
       "      <td>0.105333</td>\n",
       "      <td>0.008000</td>\n",
       "    </tr>\n",
       "    <tr>\n",
       "      <th>8</th>\n",
       "      <td>euclidean</td>\n",
       "      <td>9</td>\n",
       "      <td>0.079096</td>\n",
       "      <td>0.886667</td>\n",
       "      <td>0.000000</td>\n",
       "      <td>0.108667</td>\n",
       "      <td>0.004667</td>\n",
       "    </tr>\n",
       "    <tr>\n",
       "      <th>18</th>\n",
       "      <td>cityblock</td>\n",
       "      <td>9</td>\n",
       "      <td>0.079096</td>\n",
       "      <td>0.886667</td>\n",
       "      <td>0.000000</td>\n",
       "      <td>0.108667</td>\n",
       "      <td>0.004667</td>\n",
       "    </tr>\n",
       "    <tr>\n",
       "      <th>7</th>\n",
       "      <td>euclidean</td>\n",
       "      <td>8</td>\n",
       "      <td>0.057143</td>\n",
       "      <td>0.886667</td>\n",
       "      <td>0.000000</td>\n",
       "      <td>0.110000</td>\n",
       "      <td>0.003333</td>\n",
       "    </tr>\n",
       "    <tr>\n",
       "      <th>17</th>\n",
       "      <td>cityblock</td>\n",
       "      <td>8</td>\n",
       "      <td>0.057143</td>\n",
       "      <td>0.886667</td>\n",
       "      <td>0.000000</td>\n",
       "      <td>0.110000</td>\n",
       "      <td>0.003333</td>\n",
       "    </tr>\n",
       "    <tr>\n",
       "      <th>9</th>\n",
       "      <td>euclidean</td>\n",
       "      <td>10</td>\n",
       "      <td>0.034682</td>\n",
       "      <td>0.886667</td>\n",
       "      <td>0.000000</td>\n",
       "      <td>0.111333</td>\n",
       "      <td>0.002000</td>\n",
       "    </tr>\n",
       "    <tr>\n",
       "      <th>19</th>\n",
       "      <td>cityblock</td>\n",
       "      <td>10</td>\n",
       "      <td>0.034682</td>\n",
       "      <td>0.886667</td>\n",
       "      <td>0.000000</td>\n",
       "      <td>0.111333</td>\n",
       "      <td>0.002000</td>\n",
       "    </tr>\n",
       "  </tbody>\n",
       "</table>\n",
       "</div>"
      ],
      "text/plain": [
       "       metric   k  f1_score        tn        fp        fn        tp\n",
       "0   euclidean   1  0.666667  0.868000  0.018667  0.047333  0.066000\n",
       "10  cityblock   1  0.657718  0.866667  0.020000  0.048000  0.065333\n",
       "12  cityblock   3  0.410042  0.873333  0.013333  0.080667  0.032667\n",
       "2   euclidean   3  0.408333  0.872667  0.014000  0.080667  0.032667\n",
       "1   euclidean   2  0.401786  0.880667  0.006000  0.083333  0.030000\n",
       "11  cityblock   2  0.394619  0.880667  0.006000  0.084000  0.029333\n",
       "14  cityblock   5  0.232323  0.883333  0.003333  0.098000  0.015333\n",
       "4   euclidean   5  0.231156  0.882667  0.004000  0.098000  0.015333\n",
       "3   euclidean   4  0.196891  0.884000  0.002667  0.100667  0.012667\n",
       "13  cityblock   4  0.196891  0.884000  0.002667  0.100667  0.012667\n",
       "5   euclidean   6  0.140541  0.885333  0.001333  0.104667  0.008667\n",
       "6   euclidean   7  0.139785  0.884667  0.002000  0.104667  0.008667\n",
       "16  cityblock   7  0.139785  0.884667  0.002000  0.104667  0.008667\n",
       "15  cityblock   6  0.130435  0.885333  0.001333  0.105333  0.008000\n",
       "8   euclidean   9  0.079096  0.886667  0.000000  0.108667  0.004667\n",
       "18  cityblock   9  0.079096  0.886667  0.000000  0.108667  0.004667\n",
       "7   euclidean   8  0.057143  0.886667  0.000000  0.110000  0.003333\n",
       "17  cityblock   8  0.057143  0.886667  0.000000  0.110000  0.003333\n",
       "9   euclidean  10  0.034682  0.886667  0.000000  0.111333  0.002000\n",
       "19  cityblock  10  0.034682  0.886667  0.000000  0.111333  0.002000"
      ]
     },
     "execution_count": 28,
     "metadata": {},
     "output_type": "execute_result"
    }
   ],
   "source": [
    "# Testando o modelo treinado para os dados não escalados:\n",
    "\n",
    "results = []\n",
    "for metrics in ['euclidean', 'cityblock']:\n",
    "    for k in range(1, 11, 1):\n",
    "        predictions = knn_predictions(df_train, df_test, k, metrics)\n",
    "        \n",
    "        evaluation = eval_classifier_silent(eval_classifier, df['insurance_benefits_received'].loc[df_test.index], predictions)\n",
    "        f1_score = evaluation['f1']\n",
    "        confusion_matrix =evaluation['confusion matrix']\n",
    "        \n",
    "        results.append({\n",
    "            'metric' : metrics,\n",
    "            'k' : k,\n",
    "            'f1_score' : f1_score,\n",
    "            'tn': confusion_matrix[0, 0],  # Verdadeiros Negativos\n",
    "            'fp': confusion_matrix[0, 1],  # Falsos Positivos\n",
    "            'fn': confusion_matrix[1, 0],  # Falsos Negativos\n",
    "            'tp': confusion_matrix[1, 1],   # Verdadeiros Positivos\n",
    "        })\n",
    "        \n",
    "        df_results = pd.DataFrame(results)\n",
    "\n",
    "print('Dados não escalados:')\n",
    "df_results.sort_values('f1_score', ascending=False)"
   ]
  },
  {
   "cell_type": "code",
   "execution_count": null,
   "metadata": {},
   "outputs": [],
   "source": [
    "<div class=\"alert alert-block alert-success\">\n",
    "\n",
    "<b>Comentário: </b> <a class=\"tocSkip\"></a>\n",
    "\n",
    "Gostei da forma com que você gerou a tabela acima! É uma boa forma de visualizar e comparar resultados.Muito bom!\n",
    "</div>"
   ]
  },
  {
   "cell_type": "markdown",
   "metadata": {},
   "source": [
    "- [x] **Com os dados não escalados ambas as métricas (Euclideana e Manhattan) apresentam desempenho parecido para a mesma quantidade de 'k' vizinhos.** Os modelos com apenas 1 vizinho sendo considerado no cálculo são nitidamente mais eficazes que qualquer outro.**"
   ]
  },
  {
   "cell_type": "code",
   "execution_count": 29,
   "metadata": {},
   "outputs": [
    {
     "name": "stdout",
     "output_type": "stream",
     "text": [
      "Dados escalados:\n"
     ]
    },
    {
     "data": {
      "text/html": [
       "<div>\n",
       "<style scoped>\n",
       "    .dataframe tbody tr th:only-of-type {\n",
       "        vertical-align: middle;\n",
       "    }\n",
       "\n",
       "    .dataframe tbody tr th {\n",
       "        vertical-align: top;\n",
       "    }\n",
       "\n",
       "    .dataframe thead th {\n",
       "        text-align: right;\n",
       "    }\n",
       "</style>\n",
       "<table border=\"1\" class=\"dataframe\">\n",
       "  <thead>\n",
       "    <tr style=\"text-align: right;\">\n",
       "      <th></th>\n",
       "      <th>metric</th>\n",
       "      <th>k</th>\n",
       "      <th>f1_score</th>\n",
       "      <th>tn</th>\n",
       "      <th>fp</th>\n",
       "      <th>fn</th>\n",
       "      <th>tp</th>\n",
       "    </tr>\n",
       "  </thead>\n",
       "  <tbody>\n",
       "    <tr>\n",
       "      <th>0</th>\n",
       "      <td>euclidean</td>\n",
       "      <td>1</td>\n",
       "      <td>0.949254</td>\n",
       "      <td>0.882667</td>\n",
       "      <td>0.004000</td>\n",
       "      <td>0.007333</td>\n",
       "      <td>0.106000</td>\n",
       "    </tr>\n",
       "    <tr>\n",
       "      <th>10</th>\n",
       "      <td>cityblock</td>\n",
       "      <td>1</td>\n",
       "      <td>0.942943</td>\n",
       "      <td>0.882667</td>\n",
       "      <td>0.004000</td>\n",
       "      <td>0.008667</td>\n",
       "      <td>0.104667</td>\n",
       "    </tr>\n",
       "    <tr>\n",
       "      <th>16</th>\n",
       "      <td>cityblock</td>\n",
       "      <td>7</td>\n",
       "      <td>0.941896</td>\n",
       "      <td>0.884667</td>\n",
       "      <td>0.002000</td>\n",
       "      <td>0.010667</td>\n",
       "      <td>0.102667</td>\n",
       "    </tr>\n",
       "    <tr>\n",
       "      <th>6</th>\n",
       "      <td>euclidean</td>\n",
       "      <td>7</td>\n",
       "      <td>0.941538</td>\n",
       "      <td>0.885333</td>\n",
       "      <td>0.001333</td>\n",
       "      <td>0.011333</td>\n",
       "      <td>0.102000</td>\n",
       "    </tr>\n",
       "    <tr>\n",
       "      <th>18</th>\n",
       "      <td>cityblock</td>\n",
       "      <td>9</td>\n",
       "      <td>0.941538</td>\n",
       "      <td>0.885333</td>\n",
       "      <td>0.001333</td>\n",
       "      <td>0.011333</td>\n",
       "      <td>0.102000</td>\n",
       "    </tr>\n",
       "    <tr>\n",
       "      <th>17</th>\n",
       "      <td>cityblock</td>\n",
       "      <td>8</td>\n",
       "      <td>0.937500</td>\n",
       "      <td>0.886667</td>\n",
       "      <td>0.000000</td>\n",
       "      <td>0.013333</td>\n",
       "      <td>0.100000</td>\n",
       "    </tr>\n",
       "    <tr>\n",
       "      <th>2</th>\n",
       "      <td>euclidean</td>\n",
       "      <td>3</td>\n",
       "      <td>0.934985</td>\n",
       "      <td>0.885333</td>\n",
       "      <td>0.001333</td>\n",
       "      <td>0.012667</td>\n",
       "      <td>0.100667</td>\n",
       "    </tr>\n",
       "    <tr>\n",
       "      <th>8</th>\n",
       "      <td>euclidean</td>\n",
       "      <td>9</td>\n",
       "      <td>0.934985</td>\n",
       "      <td>0.885333</td>\n",
       "      <td>0.001333</td>\n",
       "      <td>0.012667</td>\n",
       "      <td>0.100667</td>\n",
       "    </tr>\n",
       "    <tr>\n",
       "      <th>14</th>\n",
       "      <td>cityblock</td>\n",
       "      <td>5</td>\n",
       "      <td>0.932515</td>\n",
       "      <td>0.884000</td>\n",
       "      <td>0.002667</td>\n",
       "      <td>0.012000</td>\n",
       "      <td>0.101333</td>\n",
       "    </tr>\n",
       "    <tr>\n",
       "      <th>12</th>\n",
       "      <td>cityblock</td>\n",
       "      <td>3</td>\n",
       "      <td>0.931250</td>\n",
       "      <td>0.886000</td>\n",
       "      <td>0.000667</td>\n",
       "      <td>0.014000</td>\n",
       "      <td>0.099333</td>\n",
       "    </tr>\n",
       "    <tr>\n",
       "      <th>7</th>\n",
       "      <td>euclidean</td>\n",
       "      <td>8</td>\n",
       "      <td>0.930818</td>\n",
       "      <td>0.886667</td>\n",
       "      <td>0.000000</td>\n",
       "      <td>0.014667</td>\n",
       "      <td>0.098667</td>\n",
       "    </tr>\n",
       "    <tr>\n",
       "      <th>5</th>\n",
       "      <td>euclidean</td>\n",
       "      <td>6</td>\n",
       "      <td>0.927445</td>\n",
       "      <td>0.886667</td>\n",
       "      <td>0.000000</td>\n",
       "      <td>0.015333</td>\n",
       "      <td>0.098000</td>\n",
       "    </tr>\n",
       "    <tr>\n",
       "      <th>1</th>\n",
       "      <td>euclidean</td>\n",
       "      <td>2</td>\n",
       "      <td>0.924528</td>\n",
       "      <td>0.886000</td>\n",
       "      <td>0.000667</td>\n",
       "      <td>0.015333</td>\n",
       "      <td>0.098000</td>\n",
       "    </tr>\n",
       "    <tr>\n",
       "      <th>4</th>\n",
       "      <td>euclidean</td>\n",
       "      <td>5</td>\n",
       "      <td>0.923077</td>\n",
       "      <td>0.883333</td>\n",
       "      <td>0.003333</td>\n",
       "      <td>0.013333</td>\n",
       "      <td>0.100000</td>\n",
       "    </tr>\n",
       "    <tr>\n",
       "      <th>15</th>\n",
       "      <td>cityblock</td>\n",
       "      <td>6</td>\n",
       "      <td>0.920635</td>\n",
       "      <td>0.886667</td>\n",
       "      <td>0.000000</td>\n",
       "      <td>0.016667</td>\n",
       "      <td>0.096667</td>\n",
       "    </tr>\n",
       "    <tr>\n",
       "      <th>19</th>\n",
       "      <td>cityblock</td>\n",
       "      <td>10</td>\n",
       "      <td>0.917197</td>\n",
       "      <td>0.886667</td>\n",
       "      <td>0.000000</td>\n",
       "      <td>0.017333</td>\n",
       "      <td>0.096000</td>\n",
       "    </tr>\n",
       "    <tr>\n",
       "      <th>13</th>\n",
       "      <td>cityblock</td>\n",
       "      <td>4</td>\n",
       "      <td>0.917197</td>\n",
       "      <td>0.886667</td>\n",
       "      <td>0.000000</td>\n",
       "      <td>0.017333</td>\n",
       "      <td>0.096000</td>\n",
       "    </tr>\n",
       "    <tr>\n",
       "      <th>9</th>\n",
       "      <td>euclidean</td>\n",
       "      <td>10</td>\n",
       "      <td>0.914286</td>\n",
       "      <td>0.886000</td>\n",
       "      <td>0.000667</td>\n",
       "      <td>0.017333</td>\n",
       "      <td>0.096000</td>\n",
       "    </tr>\n",
       "    <tr>\n",
       "      <th>11</th>\n",
       "      <td>cityblock</td>\n",
       "      <td>2</td>\n",
       "      <td>0.914286</td>\n",
       "      <td>0.886000</td>\n",
       "      <td>0.000667</td>\n",
       "      <td>0.017333</td>\n",
       "      <td>0.096000</td>\n",
       "    </tr>\n",
       "    <tr>\n",
       "      <th>3</th>\n",
       "      <td>euclidean</td>\n",
       "      <td>4</td>\n",
       "      <td>0.899676</td>\n",
       "      <td>0.886667</td>\n",
       "      <td>0.000000</td>\n",
       "      <td>0.020667</td>\n",
       "      <td>0.092667</td>\n",
       "    </tr>\n",
       "  </tbody>\n",
       "</table>\n",
       "</div>"
      ],
      "text/plain": [
       "       metric   k  f1_score        tn        fp        fn        tp\n",
       "0   euclidean   1  0.949254  0.882667  0.004000  0.007333  0.106000\n",
       "10  cityblock   1  0.942943  0.882667  0.004000  0.008667  0.104667\n",
       "16  cityblock   7  0.941896  0.884667  0.002000  0.010667  0.102667\n",
       "6   euclidean   7  0.941538  0.885333  0.001333  0.011333  0.102000\n",
       "18  cityblock   9  0.941538  0.885333  0.001333  0.011333  0.102000\n",
       "17  cityblock   8  0.937500  0.886667  0.000000  0.013333  0.100000\n",
       "2   euclidean   3  0.934985  0.885333  0.001333  0.012667  0.100667\n",
       "8   euclidean   9  0.934985  0.885333  0.001333  0.012667  0.100667\n",
       "14  cityblock   5  0.932515  0.884000  0.002667  0.012000  0.101333\n",
       "12  cityblock   3  0.931250  0.886000  0.000667  0.014000  0.099333\n",
       "7   euclidean   8  0.930818  0.886667  0.000000  0.014667  0.098667\n",
       "5   euclidean   6  0.927445  0.886667  0.000000  0.015333  0.098000\n",
       "1   euclidean   2  0.924528  0.886000  0.000667  0.015333  0.098000\n",
       "4   euclidean   5  0.923077  0.883333  0.003333  0.013333  0.100000\n",
       "15  cityblock   6  0.920635  0.886667  0.000000  0.016667  0.096667\n",
       "19  cityblock  10  0.917197  0.886667  0.000000  0.017333  0.096000\n",
       "13  cityblock   4  0.917197  0.886667  0.000000  0.017333  0.096000\n",
       "9   euclidean  10  0.914286  0.886000  0.000667  0.017333  0.096000\n",
       "11  cityblock   2  0.914286  0.886000  0.000667  0.017333  0.096000\n",
       "3   euclidean   4  0.899676  0.886667  0.000000  0.020667  0.092667"
      ]
     },
     "execution_count": 29,
     "metadata": {},
     "output_type": "execute_result"
    }
   ],
   "source": [
    "# Testando o modelo treinado para os dados escalados:\n",
    "\n",
    "results = []\n",
    "for metrics in ['euclidean', 'cityblock']:\n",
    "    for k in range(1, 11, 1):\n",
    "        predictions = knn_predictions(df_scaled_train, df_scaled_test, k, metrics)\n",
    "        \n",
    "        evaluation = eval_classifier_silent(eval_classifier, df['insurance_benefits_received'].loc[df_scaled_test.index], predictions)\n",
    "        f1_score = evaluation['f1']\n",
    "        confusion_matrix =evaluation['confusion matrix']\n",
    "        \n",
    "        results.append({\n",
    "            'metric' : metrics,\n",
    "            'k' : k,\n",
    "            'f1_score' : f1_score,\n",
    "            'tn': confusion_matrix[0, 0],  # Verdadeiros Negativos\n",
    "            'fp': confusion_matrix[0, 1],  # Falsos Positivos\n",
    "            'fn': confusion_matrix[1, 0],  # Falsos Negativos\n",
    "            'tp': confusion_matrix[1, 1],   # Verdadeiros Positivos\n",
    "        })\n",
    "        \n",
    "        df_results = pd.DataFrame(results)\n",
    "\n",
    "print('Dados escalados:')\n",
    "df_results.sort_values('f1_score', ascending=False)"
   ]
  },
  {
   "cell_type": "markdown",
   "metadata": {},
   "source": [
    "- [x] **Com os dados escalados até mesmo o pior entre os 20 modelos testados possui uma métrica F1 considerada boa (0.899)!** Quando comparamos as métricas para diferentes números de 'k' vizinhos considerados parece que não há grande influência sobre s resultados, apesar de os modelos considerando apenas 1 'k' vizinho ainda se sairem melhor que os outros, a taxa entre eles diminui."
   ]
  },
  {
   "cell_type": "markdown",
   "metadata": {},
   "source": [
    "# Tarefa 3. Regressão (com Regressão Linear)"
   ]
  },
  {
   "cell_type": "markdown",
   "metadata": {},
   "source": [
    "Com os pagamentos de seguro como objetivo, avalie qual seria o REQM para um modelo de Regressão Linear."
   ]
  },
  {
   "cell_type": "markdown",
   "metadata": {},
   "source": [
    "Construa sua própria implementação de Regressão Linear. Para isso, lembre-se de como a solução da tarefa de regressão linear é formulada em termos de Álgebra linear. Verifique o REQM para os dados originais e os escalados. Você pode ver alguma diferença no REQM entre esses dois casos?\n",
    "\n",
    "Vamos denotar\n",
    "- $X$ — matriz de características, cada linha é um caso, cada coluna é uma característica, a primeira coluna consiste em unidades\n",
    "- $y$ — objetivo (um vetor)\n",
    "- $\\hat{y}$ — objetivo estimado (um vetor)\n",
    "- $w$ — vetor de peso\n",
    "\n",
    "A tarefa de regressão linear na linguagem de matrizes pode ser formulada como\n",
    "$$\n",
    "y = Xw\n",
    "$$\n",
    "\n",
    "O objetivo do treinamento, então, é encontrar os $w$ que minimizaria a distância L2 (EQM) entre $Xw$ e $y$:\n",
    "\n",
    "$$\n",
    "\\min_w d_2(Xw, y) \\quad \\text{or} \\quad \\min_w \\text{MSE}(Xw, y)\n",
    "$$\n",
    "\n",
    "Parece que há uma solução analítica para a questão acima:\n",
    "\n",
    "$$\n",
    "w = (X^T X)^{-1} X^T y\n",
    "$$\n",
    "\n",
    "A fórmula acima pode ser usada para encontrar os pesos $w$ e o último pode ser usado para calcular valores preditos\n",
    "\n",
    "$$\n",
    "\\hat{y} = X_{val}w\n",
    "$$"
   ]
  },
  {
   "cell_type": "markdown",
   "metadata": {},
   "source": [
    "Divida todos os dados na proporção 70:30 para as partes de treinamento/validação. Use a métrica REQM para a avaliação do modelo."
   ]
  },
  {
   "cell_type": "code",
   "execution_count": 30,
   "metadata": {},
   "outputs": [],
   "source": [
    "class MyLinearRegression:\n",
    "    \n",
    "    def __init__(self):\n",
    "        \n",
    "        self.weights = None\n",
    "    \n",
    "    def fit(self, X, y):\n",
    "        \n",
    "        # somando as unidades\n",
    "        X2 = np.append(np.ones([len(X), 1]), X, axis=1)\n",
    "        self.weights = np.linalg.inv(X2.T.dot(X2)).dot(X2.T).dot(y) # <seu código aqui>\n",
    "        self.w = self.weights[1:]\n",
    "        self.w0 = self.weights[0]\n",
    "\n",
    "    def predict(self, X):\n",
    "        \n",
    "        # somando as unidades\n",
    "        y_pred = X.dot(self.w) + self.w0 # <seu código aqui>\n",
    "        \n",
    "        return y_pred"
   ]
  },
  {
   "cell_type": "code",
   "execution_count": 31,
   "metadata": {},
   "outputs": [],
   "source": [
    "def eval_regressor(y_true, y_pred):\n",
    "    \n",
    "    rmse = math.sqrt(sklearn.metrics.mean_squared_error(y_true, y_pred))\n",
    "    print(f'REQM: {rmse:.2f}')\n",
    "    \n",
    "    r2_score = math.sqrt(sklearn.metrics.r2_score(y_true, y_pred))\n",
    "    print(f'R2: {r2_score:.2f}')    "
   ]
  },
  {
   "cell_type": "code",
   "execution_count": 32,
   "metadata": {},
   "outputs": [
    {
     "name": "stdout",
     "output_type": "stream",
     "text": [
      "Dados não escalados:\n",
      "\n",
      "Pesos das características:\n",
      "[-9.43539012e-01  3.57495491e-02  1.64272726e-02 -2.60743659e-07\n",
      " -1.16902127e-02]\n",
      "\n",
      "REQM: 0.34\n",
      "R2: 0.66\n"
     ]
    }
   ],
   "source": [
    "# Testando o modelo com os dados não escalados:\n",
    "X = df[['age', 'gender', 'income', 'family_members']].to_numpy()\n",
    "y = df['insurance_benefits'].to_numpy()\n",
    "\n",
    "X_train, X_test, y_train, y_test = train_test_split(X, y, test_size=0.3, random_state=12345)\n",
    "\n",
    "lr = MyLinearRegression()\n",
    "\n",
    "lr.fit(X_train, y_train)\n",
    "\n",
    "print('Dados não escalados:')\n",
    "print()\n",
    "print('Pesos das características:')\n",
    "print(lr.weights)\n",
    "print()\n",
    "\n",
    "y_test_pred = lr.predict(X_test)\n",
    "eval_regressor(y_test, y_test_pred)"
   ]
  },
  {
   "cell_type": "code",
   "execution_count": 33,
   "metadata": {},
   "outputs": [
    {
     "name": "stdout",
     "output_type": "stream",
     "text": [
      "Dados escalados:\n",
      "\n",
      "Pesos das características:\n",
      "[-0.94353901  2.32372069  0.01642727 -0.02059875 -0.07014128]\n",
      "\n",
      "REQM: 0.34\n",
      "R2: 0.66\n"
     ]
    }
   ],
   "source": [
    "# Testando o modelo com os dados escalados:\n",
    "X = df_scaled[['age', 'gender', 'income', 'family_members']].to_numpy()\n",
    "y = df_scaled['insurance_benefits'].to_numpy()\n",
    "\n",
    "X_train, X_test, y_train, y_test = train_test_split(X, y, test_size=0.3, random_state=12345)\n",
    "\n",
    "lr = MyLinearRegression()\n",
    "\n",
    "lr.fit(X_train, y_train)\n",
    "\n",
    "print('Dados escalados:')\n",
    "print()\n",
    "print('Pesos das características:')\n",
    "print(lr.weights)\n",
    "print()\n",
    "\n",
    "y_test_pred = lr.predict(X_test)\n",
    "eval_regressor(y_test, y_test_pred)"
   ]
  },
  {
   "cell_type": "markdown",
   "metadata": {},
   "source": [
    "<div class=\"alert alert-block alert-success\">\n",
    "\n",
    "<b>Comentário: </b> <a class=\"tocSkip\"></a>\n",
    "\n",
    "Modelo de regressão linear realizado corretamente.\n",
    "</div>"
   ]
  },
  {
   "cell_type": "markdown",
   "metadata": {},
   "source": [
    "- [x] **Para a Regressão Linear, apesar de os pesos sofrerem alterações quando os dados são escalonados, não há alteração alguma nas métricas de REQM nem de R2.**"
   ]
  },
  {
   "cell_type": "markdown",
   "metadata": {},
   "source": [
    "# Tarefa 4. Ofuscando dados"
   ]
  },
  {
   "cell_type": "markdown",
   "metadata": {},
   "source": [
    "É melhor ofuscar os dados multiplicando as características numéricas (lembre-se, elas podem ser vistos como a matriz $X$) por uma matriz invertível $P$. \n",
    "\n",
    "$$\n",
    "X' = X \\times P\n",
    "$$\n",
    "\n",
    "Tente fazer isso e verifique como os valores das características ficarão após a transformação. Aliás, a invertibilidade é importante aqui, portanto, certifique-se de que $P$ seja realmente invertível.\n",
    "\n",
    "Você pode querer revisar a lição 'Matrizes e Operações com Matrizes -> Multiplicação de Matrizes' para relembrar a regra de multiplicação de matrizes e sua implementação com NumPy."
   ]
  },
  {
   "cell_type": "code",
   "execution_count": 34,
   "metadata": {},
   "outputs": [],
   "source": [
    "personal_info_column_list = ['gender', 'age', 'income', 'family_members']\n",
    "df_pn = df[personal_info_column_list]"
   ]
  },
  {
   "cell_type": "code",
   "execution_count": 35,
   "metadata": {},
   "outputs": [],
   "source": [
    "X = df_pn.to_numpy()"
   ]
  },
  {
   "cell_type": "markdown",
   "metadata": {},
   "source": [
    "Gerando uma matriz $P$ aleatória."
   ]
  },
  {
   "cell_type": "code",
   "execution_count": 36,
   "metadata": {},
   "outputs": [],
   "source": [
    "rng = np.random.default_rng(seed=42)\n",
    "P = rng.random(size=(X.shape[1], X.shape[1]))"
   ]
  },
  {
   "cell_type": "markdown",
   "metadata": {},
   "source": [
    "Verificando se a matriz $P$ é invertível"
   ]
  },
  {
   "cell_type": "code",
   "execution_count": 37,
   "metadata": {},
   "outputs": [
    {
     "data": {
      "text/plain": [
       "array([[ 0.41467992, -1.43783972,  0.62798546,  1.14001268],\n",
       "       [-1.06101789,  0.44219337,  0.1329549 ,  1.18425933],\n",
       "       [ 1.42362442,  1.60461607, -2.0553823 , -1.53699695],\n",
       "       [-0.11128575, -0.65813802,  1.74995517, -0.11816316]])"
      ]
     },
     "execution_count": 37,
     "metadata": {},
     "output_type": "execute_result"
    }
   ],
   "source": [
    "np.linalg.inv(P)"
   ]
  },
  {
   "cell_type": "markdown",
   "metadata": {},
   "source": [
    "- [x]  **Sim, a matriz $P$ é invertível.**\n",
    "\n",
    "Você consegue adivinhar a idade ou a renda dos clientes após a transformação?"
   ]
  },
  {
   "cell_type": "code",
   "execution_count": 39,
   "metadata": {},
   "outputs": [
    {
     "data": {
      "text/plain": [
       "array([[ 6359.71527314, 22380.40467609, 18424.09074184, 46000.69669016],\n",
       "       [ 4873.29406479, 17160.36702982, 14125.78076133, 35253.45577301],\n",
       "       [ 2693.11742928,  9486.397744  ,  7808.83156024, 19484.86063067],\n",
       "       ...,\n",
       "       [ 4346.2234249 , 15289.24126492, 12586.16264392, 31433.50888552],\n",
       "       [ 4194.09324155, 14751.9910242 , 12144.02930637, 30323.88763426],\n",
       "       [ 5205.46827354, 18314.24814446, 15077.01370762, 37649.59295455]])"
      ]
     },
     "execution_count": 39,
     "metadata": {},
     "output_type": "execute_result"
    }
   ],
   "source": [
    "# Aplicando tranformação de Ofuscamento de Dados\n",
    "dazzled = X @ P\n",
    "dazzled"
   ]
  },
  {
   "cell_type": "markdown",
   "metadata": {},
   "source": [
    "- [x] **Após a transformação não consigo dizer nem qual coluna que armazena quais dados...**\n",
    "\n",
    "Você pode recuperar os dados originais de $X′$ se souber $P$? Tente verificar isso com cálculos movendo $P$ do lado direito da fórmula acima para o esquerdo. As regras da multiplicação de matrizes são realmente úteis aqui"
   ]
  },
  {
   "cell_type": "code",
   "execution_count": 61,
   "metadata": {},
   "outputs": [
    {
     "data": {
      "text/plain": [
       "array([[ 1.00000000e+00,  4.10000000e+01,  4.96000000e+04,\n",
       "         1.00000000e+00],\n",
       "       [-4.47363596e-12,  4.60000000e+01,  3.80000000e+04,\n",
       "         1.00000000e+00],\n",
       "       [-2.51586878e-12,  2.90000000e+01,  2.10000000e+04,\n",
       "         9.52452315e-13],\n",
       "       ...,\n",
       "       [-1.92837871e-12,  2.00000000e+01,  3.39000000e+04,\n",
       "         2.00000000e+00],\n",
       "       [ 1.00000000e+00,  2.20000000e+01,  3.27000000e+04,\n",
       "         3.00000000e+00],\n",
       "       [ 1.00000000e+00,  2.80000000e+01,  4.06000000e+04,\n",
       "         1.00000000e+00]])"
      ]
     },
     "execution_count": 61,
     "metadata": {},
     "output_type": "execute_result"
    }
   ],
   "source": [
    "X_rec = np.dot(dazzled, np.linalg.inv(P))\n",
    "X_rec"
   ]
  },
  {
   "cell_type": "markdown",
   "metadata": {},
   "source": [
    "- [x] **Sim! É possível recuperar X se souber P**\n",
    "\n",
    "Imprima todos os três casos para alguns clientes\n",
    "- Os dados originais\n",
    "- O transformado\n",
    "- O invertido (recuperado)"
   ]
  },
  {
   "cell_type": "code",
   "execution_count": 59,
   "metadata": {},
   "outputs": [
    {
     "data": {
      "text/html": [
       "<div>\n",
       "<style scoped>\n",
       "    .dataframe tbody tr th:only-of-type {\n",
       "        vertical-align: middle;\n",
       "    }\n",
       "\n",
       "    .dataframe tbody tr th {\n",
       "        vertical-align: top;\n",
       "    }\n",
       "\n",
       "    .dataframe thead th {\n",
       "        text-align: right;\n",
       "    }\n",
       "</style>\n",
       "<table border=\"1\" class=\"dataframe\">\n",
       "  <thead>\n",
       "    <tr style=\"text-align: right;\">\n",
       "      <th></th>\n",
       "      <th>0</th>\n",
       "      <th>1</th>\n",
       "      <th>2</th>\n",
       "      <th>3</th>\n",
       "    </tr>\n",
       "  </thead>\n",
       "  <tbody>\n",
       "    <tr>\n",
       "      <th>2844</th>\n",
       "      <td>1.0</td>\n",
       "      <td>28.0</td>\n",
       "      <td>41100.0</td>\n",
       "      <td>0.0</td>\n",
       "    </tr>\n",
       "    <tr>\n",
       "      <th>995</th>\n",
       "      <td>0.0</td>\n",
       "      <td>28.0</td>\n",
       "      <td>39700.0</td>\n",
       "      <td>0.0</td>\n",
       "    </tr>\n",
       "    <tr>\n",
       "      <th>3153</th>\n",
       "      <td>0.0</td>\n",
       "      <td>36.0</td>\n",
       "      <td>35400.0</td>\n",
       "      <td>3.0</td>\n",
       "    </tr>\n",
       "    <tr>\n",
       "      <th>2827</th>\n",
       "      <td>1.0</td>\n",
       "      <td>33.0</td>\n",
       "      <td>39900.0</td>\n",
       "      <td>0.0</td>\n",
       "    </tr>\n",
       "    <tr>\n",
       "      <th>1702</th>\n",
       "      <td>1.0</td>\n",
       "      <td>23.0</td>\n",
       "      <td>18200.0</td>\n",
       "      <td>2.0</td>\n",
       "    </tr>\n",
       "  </tbody>\n",
       "</table>\n",
       "</div>"
      ],
      "text/plain": [
       "        0     1        2    3\n",
       "2844  1.0  28.0  41100.0  0.0\n",
       "995   0.0  28.0  39700.0  0.0\n",
       "3153  0.0  36.0  35400.0  3.0\n",
       "2827  1.0  33.0  39900.0  0.0\n",
       "1702  1.0  23.0  18200.0  2.0"
      ]
     },
     "execution_count": 59,
     "metadata": {},
     "output_type": "execute_result"
    }
   ],
   "source": [
    "# Imprimindo os dados originais de 5 clientes aleatórios:\n",
    "pd.DataFrame(X).sample(5, random_state=333)"
   ]
  },
  {
   "cell_type": "code",
   "execution_count": 60,
   "metadata": {},
   "outputs": [
    {
     "data": {
      "text/html": [
       "<div>\n",
       "<style scoped>\n",
       "    .dataframe tbody tr th:only-of-type {\n",
       "        vertical-align: middle;\n",
       "    }\n",
       "\n",
       "    .dataframe tbody tr th {\n",
       "        vertical-align: top;\n",
       "    }\n",
       "\n",
       "    .dataframe thead th {\n",
       "        text-align: right;\n",
       "    }\n",
       "</style>\n",
       "<table border=\"1\" class=\"dataframe\">\n",
       "  <thead>\n",
       "    <tr style=\"text-align: right;\">\n",
       "      <th></th>\n",
       "      <th>0</th>\n",
       "      <th>1</th>\n",
       "      <th>2</th>\n",
       "      <th>3</th>\n",
       "    </tr>\n",
       "  </thead>\n",
       "  <tbody>\n",
       "    <tr>\n",
       "      <th>2844</th>\n",
       "      <td>5268.881225</td>\n",
       "      <td>18538.618352</td>\n",
       "      <td>15261.969306</td>\n",
       "      <td>38112.748210</td>\n",
       "    </tr>\n",
       "    <tr>\n",
       "      <th>995</th>\n",
       "      <td>5088.748183</td>\n",
       "      <td>17907.639160</td>\n",
       "      <td>14741.993474</td>\n",
       "      <td>36814.579858</td>\n",
       "    </tr>\n",
       "    <tr>\n",
       "      <th>3153</th>\n",
       "      <td>4540.544577</td>\n",
       "      <td>15981.252891</td>\n",
       "      <td>13154.981330</td>\n",
       "      <td>32836.460636</td>\n",
       "    </tr>\n",
       "    <tr>\n",
       "      <th>2827</th>\n",
       "      <td>5115.615752</td>\n",
       "      <td>18003.033338</td>\n",
       "      <td>14820.817375</td>\n",
       "      <td>37004.560545</td>\n",
       "    </tr>\n",
       "    <tr>\n",
       "      <th>1702</th>\n",
       "      <td>2335.895880</td>\n",
       "      <td>8221.547785</td>\n",
       "      <td>6767.775680</td>\n",
       "      <td>16886.354122</td>\n",
       "    </tr>\n",
       "  </tbody>\n",
       "</table>\n",
       "</div>"
      ],
      "text/plain": [
       "                0             1             2             3\n",
       "2844  5268.881225  18538.618352  15261.969306  38112.748210\n",
       "995   5088.748183  17907.639160  14741.993474  36814.579858\n",
       "3153  4540.544577  15981.252891  13154.981330  32836.460636\n",
       "2827  5115.615752  18003.033338  14820.817375  37004.560545\n",
       "1702  2335.895880   8221.547785   6767.775680  16886.354122"
      ]
     },
     "execution_count": 60,
     "metadata": {},
     "output_type": "execute_result"
    }
   ],
   "source": [
    "# Imprimindo os dados transformados dos mesmos 5 clientes aleatórios:\n",
    "pd.DataFrame(dazzled).sample(5, random_state=333)"
   ]
  },
  {
   "cell_type": "code",
   "execution_count": 118,
   "metadata": {},
   "outputs": [
    {
     "data": {
      "text/html": [
       "<div>\n",
       "<style scoped>\n",
       "    .dataframe tbody tr th:only-of-type {\n",
       "        vertical-align: middle;\n",
       "    }\n",
       "\n",
       "    .dataframe tbody tr th {\n",
       "        vertical-align: top;\n",
       "    }\n",
       "\n",
       "    .dataframe thead th {\n",
       "        text-align: right;\n",
       "    }\n",
       "</style>\n",
       "<table border=\"1\" class=\"dataframe\">\n",
       "  <thead>\n",
       "    <tr style=\"text-align: right;\">\n",
       "      <th></th>\n",
       "      <th>0</th>\n",
       "      <th>1</th>\n",
       "      <th>2</th>\n",
       "      <th>3</th>\n",
       "    </tr>\n",
       "  </thead>\n",
       "  <tbody>\n",
       "    <tr>\n",
       "      <th>2844</th>\n",
       "      <td>1.000000e+00</td>\n",
       "      <td>28.0</td>\n",
       "      <td>41100.0</td>\n",
       "      <td>1.157864e-12</td>\n",
       "    </tr>\n",
       "    <tr>\n",
       "      <th>995</th>\n",
       "      <td>-5.766220e-12</td>\n",
       "      <td>28.0</td>\n",
       "      <td>39700.0</td>\n",
       "      <td>3.292319e-12</td>\n",
       "    </tr>\n",
       "    <tr>\n",
       "      <th>3153</th>\n",
       "      <td>-6.855402e-12</td>\n",
       "      <td>36.0</td>\n",
       "      <td>35400.0</td>\n",
       "      <td>3.000000e+00</td>\n",
       "    </tr>\n",
       "    <tr>\n",
       "      <th>2827</th>\n",
       "      <td>1.000000e+00</td>\n",
       "      <td>33.0</td>\n",
       "      <td>39900.0</td>\n",
       "      <td>3.135436e-12</td>\n",
       "    </tr>\n",
       "    <tr>\n",
       "      <th>1702</th>\n",
       "      <td>1.000000e+00</td>\n",
       "      <td>23.0</td>\n",
       "      <td>18200.0</td>\n",
       "      <td>2.000000e+00</td>\n",
       "    </tr>\n",
       "  </tbody>\n",
       "</table>\n",
       "</div>"
      ],
      "text/plain": [
       "                 0     1        2             3\n",
       "2844  1.000000e+00  28.0  41100.0  1.157864e-12\n",
       "995  -5.766220e-12  28.0  39700.0  3.292319e-12\n",
       "3153 -6.855402e-12  36.0  35400.0  3.000000e+00\n",
       "2827  1.000000e+00  33.0  39900.0  3.135436e-12\n",
       "1702  1.000000e+00  23.0  18200.0  2.000000e+00"
      ]
     },
     "execution_count": 118,
     "metadata": {},
     "output_type": "execute_result"
    }
   ],
   "source": [
    "# Imprimindo os dados recuperados dos mesmos 5 clientes aletórios:\n",
    "pd.DataFrame(X_rec).sample(5, random_state=333)"
   ]
  },
  {
   "cell_type": "markdown",
   "metadata": {},
   "source": [
    "Você provavelmente pode ver que alguns valores não são exatamente iguais aos dos dados originais. Qual pode ser a razão disso?\n",
    "\n",
    "- [x] **Todos os valores originais '0' se tornaram números aparentemente aleatórios elevados a -12**"
   ]
  },
  {
   "cell_type": "code",
   "execution_count": 147,
   "metadata": {},
   "outputs": [
    {
     "data": {
      "text/html": [
       "<div>\n",
       "<style scoped>\n",
       "    .dataframe tbody tr th:only-of-type {\n",
       "        vertical-align: middle;\n",
       "    }\n",
       "\n",
       "    .dataframe tbody tr th {\n",
       "        vertical-align: top;\n",
       "    }\n",
       "\n",
       "    .dataframe thead th {\n",
       "        text-align: right;\n",
       "    }\n",
       "</style>\n",
       "<table border=\"1\" class=\"dataframe\">\n",
       "  <thead>\n",
       "    <tr style=\"text-align: right;\">\n",
       "      <th></th>\n",
       "      <th>0</th>\n",
       "      <th>1</th>\n",
       "      <th>2</th>\n",
       "      <th>3</th>\n",
       "    </tr>\n",
       "  </thead>\n",
       "  <tbody>\n",
       "    <tr>\n",
       "      <th>0</th>\n",
       "      <td>1.000000e+00</td>\n",
       "      <td>-5.507917e-16</td>\n",
       "      <td>-5.000987e-16</td>\n",
       "      <td>-2.570007e-16</td>\n",
       "    </tr>\n",
       "    <tr>\n",
       "      <th>1</th>\n",
       "      <td>-5.019294e-17</td>\n",
       "      <td>1.000000e+00</td>\n",
       "      <td>-2.911315e-16</td>\n",
       "      <td>-5.211644e-17</td>\n",
       "    </tr>\n",
       "    <tr>\n",
       "      <th>2</th>\n",
       "      <td>-8.807037e-17</td>\n",
       "      <td>-8.523964e-17</td>\n",
       "      <td>1.000000e+00</td>\n",
       "      <td>6.696737e-18</td>\n",
       "    </tr>\n",
       "    <tr>\n",
       "      <th>3</th>\n",
       "      <td>-1.047680e-17</td>\n",
       "      <td>-9.834522e-17</td>\n",
       "      <td>-1.101089e-16</td>\n",
       "      <td>1.000000e+00</td>\n",
       "    </tr>\n",
       "  </tbody>\n",
       "</table>\n",
       "</div>"
      ],
      "text/plain": [
       "              0             1             2             3\n",
       "0  1.000000e+00 -5.507917e-16 -5.000987e-16 -2.570007e-16\n",
       "1 -5.019294e-17  1.000000e+00 -2.911315e-16 -5.211644e-17\n",
       "2 -8.807037e-17 -8.523964e-17  1.000000e+00  6.696737e-18\n",
       "3 -1.047680e-17 -9.834522e-17 -1.101089e-16  1.000000e+00"
      ]
     },
     "execution_count": 147,
     "metadata": {},
     "output_type": "execute_result"
    }
   ],
   "source": [
    "identidade = np.linalg.inv(P) @ P\n",
    "pd.DataFrame(identidade)"
   ]
  },
  {
   "cell_type": "markdown",
   "metadata": {},
   "source": [
    "- [x] **Possível causa:**\n",
    "\n",
    "**Quase Ortogonalidade:** A matriz de ofuscamento $P$ contém linhas ou colunas quase ortogonais *(com vetores de produtos internos que resultam em valores muito baixos)*. Se a **Matriz Identidade** não possui zeros absolutos, a matriz recuperada também sofrerá alterações nos números sensíveis a valores extremamente baixos."
   ]
  },
  {
   "cell_type": "markdown",
   "metadata": {},
   "source": [
    "## Provas de que a ofuscação de dados pode funcionar com a Regressão Linear"
   ]
  },
  {
   "cell_type": "markdown",
   "metadata": {},
   "source": [
    "A tarefa de regressão foi resolvida com regressão linear neste projeto. Sua próxima tarefa é provar analiticamente que o método de ofuscação fornecido não afetará a regressão linear em termos de valores preditos, ou seja, seus valores permanecerão os mesmos. Você acredita nisso? Bem, você não precisa acreditar, você deve provar isso!"
   ]
  },
  {
   "cell_type": "markdown",
   "metadata": {},
   "source": [
    "Assim, os dados são ofuscados e há $X \\ P$ em vez de apenas X agora. Consequentemente, existem outros pesos $w_P$ como\n",
    "$$\n",
    "w = (X^T X)^{-1} X^T y \\quad \\Rightarrow \\quad w_P = [(XP)^T XP]^{-1} (XP)^T y\n",
    "$$\n",
    "\n",
    "\n",
    "1. Como  $w$ e $w_P$ seriam ligados se você simplificasse a fórmula para $w_P$ acima? \n",
    "\n",
    "2. Quais seriam os valores previstos com $w_P$? \n",
    "\n",
    "3. O que isso significa para a qualidade da regressão linear se você medir com REQM?\n",
    "\n",
    "Verifique o Apêndice B Propriedades das Matrizes no final do caderno. Existem fórmulas úteis lá!\n",
    "\n",
    "Nenhum código é necessário nesta seção, apenas explicação analítica!"
   ]
  },
  {
   "cell_type": "markdown",
   "metadata": {},
   "source": [
    "**Resposta**"
   ]
  },
  {
   "cell_type": "markdown",
   "metadata": {},
   "source": [
    "1. Simplificando $w_P$:\n",
    "\n",
    "$$\n",
    " w_P = \\frac{[(XP)^T XP]^{-1} (XP)^T y}{P} \\quad = \\quad [(XP)^T XP]^{-1} (XP)^T \\frac{y}{P} \\quad = \\quad w \\frac{y}{P} \\quad = \\quad wyP^{-1}\n",
    "$$\n",
    "    \n",
    "    \n",
    "2. Os valores previstos com $w_P$ seriam:\n",
    "$$\n",
    "y = X(w_P) \\quad = \\quad X (w y P^{-1})\n",
    "$$\n",
    "\n",
    "    Logo, o vetor objetivo sofreria alterações em relação ao peso de cálculo distorcendo igualmente todas as previsões.\n",
    "    \n",
    "    \n",
    "3. O valor do REQM aumentará, representando uma queda na qualidade da Regressão Linear, para evitar este problema seria necessário, teoricamente, multiplicar a matriz por $P^{-1}$ durante o processo da Regressão Linear."
   ]
  },
  {
   "cell_type": "markdown",
   "metadata": {},
   "source": [
    "**Prova analítica**"
   ]
  },
  {
   "cell_type": "markdown",
   "metadata": {},
   "source": [
    "1.  Distributividade: $A(B+C)=AB+AC$ \n",
    "2. Propriedade associativa da multiplicação: $(AB)C = A(BC)$\n",
    "3. Propriedade de identidade multiplicativa: $(AB)^{-1} = B^{-1}A^{-1}$"
   ]
  },
  {
   "cell_type": "markdown",
   "metadata": {},
   "source": [
    "## Teste de regressão linear com ofuscação de dados"
   ]
  },
  {
   "cell_type": "markdown",
   "metadata": {},
   "source": [
    "Agora, vamos provar que a Regressão Linear pode funcionar computacionalmente com a transformação de ofuscação escolhida.\n",
    "Crie um procedimento ou uma classe que execute a Regressão Linear opcionalmente com a ofuscação. Você pode usar uma implementação pronta de Regressão Linear do scikit-learn ou sua própria.\n",
    "\n",
    "Execute a Regressão Linear para os dados originais e os ofuscados, compare os valores previstos e os valores da métrica $R^2$ do REQM. Há alguma diferença?"
   ]
  },
  {
   "cell_type": "markdown",
   "metadata": {},
   "source": [
    "**Procedimento**\n",
    "\n",
    "- Crie uma matriz quadrada $P$ de números aleatórios.\n",
    "- Verifique se é invertível. Caso contrário, repita o primeiro ponto até obtermos uma matriz invertível.\n",
    "- <! seu comentário aqui!>\n",
    "- Use $XP$ como a nova matriz de características"
   ]
  },
  {
   "cell_type": "code",
   "execution_count": 163,
   "metadata": {},
   "outputs": [
    {
     "name": "stdout",
     "output_type": "stream",
     "text": [
      "REQM do modelo treinado com os dados originais: 0.12\n"
     ]
    }
   ],
   "source": [
    "# Executando Regressão Linear para os dados Originais:\n",
    "X = df_scaled[['age', 'gender', 'income', 'family_members']].to_numpy()\n",
    "y = df_scaled['insurance_benefits'].to_numpy()\n",
    "\n",
    "X_train, X_test, y_train, y_test = train_test_split(X, y, test_size=0.3, random_state=12345)\n",
    "\n",
    "original_model = sklearn.linear_model.LinearRegression().fit(X_train, y_train)\n",
    "original_predictions = original_model.predict(X_test)\n",
    "original_mse = sklearn.metrics.mean_squared_error(y_test, original_predictions)\n",
    "\n",
    "print(f'REQM do modelo treinado com os dados originais: {original_mse:.2f}')"
   ]
  },
  {
   "cell_type": "code",
   "execution_count": 164,
   "metadata": {},
   "outputs": [],
   "source": [
    "# Gerando matriz aleatória P:\n",
    "rng = np.random.default_rng(seed=42)\n",
    "P = rng.random(size=(X.shape[1], X.shape[1]))"
   ]
  },
  {
   "cell_type": "code",
   "execution_count": 165,
   "metadata": {},
   "outputs": [
    {
     "data": {
      "text/plain": [
       "array([[ 0.41467992, -1.43783972,  0.62798546,  1.14001268],\n",
       "       [-1.06101789,  0.44219337,  0.1329549 ,  1.18425933],\n",
       "       [ 1.42362442,  1.60461607, -2.0553823 , -1.53699695],\n",
       "       [-0.11128575, -0.65813802,  1.74995517, -0.11816316]])"
      ]
     },
     "execution_count": 165,
     "metadata": {},
     "output_type": "execute_result"
    }
   ],
   "source": [
    "# Conferindo se P é invertível:\n",
    "np.linalg.inv(P)"
   ]
  },
  {
   "cell_type": "code",
   "execution_count": 166,
   "metadata": {},
   "outputs": [
    {
     "name": "stdout",
     "output_type": "stream",
     "text": [
      "REQM do modelo treinado com os dados ofuscados: 0.27\n"
     ]
    }
   ],
   "source": [
    "# Executando Regressão Linear para os dados Ofuscados:\n",
    "Xp = X @ P\n",
    "\n",
    "Xp_train, Xp_test, yp_train, yp_test = train_test_split(Xp, y, test_size=0.3, random_state=12345)\n",
    "\n",
    "dazzled_model = sklearn.linear_model.LinearRegression().fit(Xp_train, yp_train)\n",
    "dazzled_predictions = original_model.predict(Xp_test)\n",
    "dazzled_mse = sklearn.metrics.mean_squared_error(yp_test, dazzled_predictions)\n",
    "\n",
    "print(f'REQM do modelo treinado com os dados ofuscados: {dazzled_mse:.2f}')"
   ]
  },
  {
   "cell_type": "code",
   "execution_count": 185,
   "metadata": {},
   "outputs": [],
   "source": [
    "# Aplicando o ofuscamento em todo o DataFrame original:\n",
    "# Gerando matriz aleatória P:\n",
    "rng = np.random.default_rng(seed=42)\n",
    "P = rng.random(size=(df_scaled.shape[1], df_scaled.shape[1]))"
   ]
  },
  {
   "cell_type": "code",
   "execution_count": 187,
   "metadata": {},
   "outputs": [
    {
     "data": {
      "text/plain": [
       "array([[ 1.41035943,  0.90610582, -2.00787937,  1.47271069, -0.74623617],\n",
       "       [-0.28558107,  0.49848661,  1.15086093,  0.0066473 , -0.91487427],\n",
       "       [-0.69970518, -0.42288786,  1.45986829, -2.04553524,  1.15768716],\n",
       "       [ 1.13604007, -0.85209178, -0.28484747,  0.86319324, -0.18263762],\n",
       "       [-1.6744307 ,  0.39554207, -0.06237199,  0.12315311,  1.19402846]])"
      ]
     },
     "execution_count": 187,
     "metadata": {},
     "output_type": "execute_result"
    }
   ],
   "source": [
    "# Conferindo se P é invertível:\n",
    "np.linalg.inv(P)"
   ]
  },
  {
   "cell_type": "code",
   "execution_count": 177,
   "metadata": {},
   "outputs": [
    {
     "name": "stdout",
     "output_type": "stream",
     "text": [
      "REQM do modelo treinado com os dados ofuscados tanto nas features quanto no target: 0.23\n"
     ]
    }
   ],
   "source": [
    "# Aplicando o ofuscamento em todo o DataFrame original:\n",
    "dazzled = df_scaled.to_numpy() @ P\n",
    "\n",
    "Xp = dazzled[:, :3]\n",
    "yp = dazzled[:, 4]\n",
    "\n",
    "Xp_train, Xp_test, yp_train, yp_test = train_test_split(Xp, yp, test_size=0.3, random_state=12345)\n",
    "\n",
    "dazzled_model1 = sklearn.linear_model.LinearRegression().fit(Xp_train, yp_train)\n",
    "dazzled_predictions1 = dazzled_model1.predict(Xp_test)\n",
    "dazzled_mse1 = sklearn.metrics.mean_squared_error(yp_test, dazzled_predictions)\n",
    "\n",
    "print(f'REQM do modelo treinado com os dados ofuscados tanto nas features quanto no target: {dazzled_mse1:.2f}')"
   ]
  },
  {
   "cell_type": "code",
   "execution_count": 225,
   "metadata": {},
   "outputs": [
    {
     "name": "stdout",
     "output_type": "stream",
     "text": [
      "Targets originais, sem ofuscamento dos dados:\n",
      "\n",
      "995    0\n",
      "5      1\n",
      "Name: insurance_benefits, dtype: int64\n"
     ]
    }
   ],
   "source": [
    "# Conferindo 2 objetivos selecionados - original:\n",
    "print(f'Targets originais, sem ofuscamento dos dados:')\n",
    "print()\n",
    "print(df_scaled[\"insurance_benefits\"].iloc[[995, 5]])"
   ]
  },
  {
   "cell_type": "code",
   "execution_count": 226,
   "metadata": {},
   "outputs": [
    {
     "name": "stdout",
     "output_type": "stream",
     "text": [
      "Targets ofuscados:\n",
      "\n",
      "            0\n",
      "995  0.728506\n",
      "5    0.581219\n"
     ]
    }
   ],
   "source": [
    "# Conferindo 2 objetivos selecionados - target ofuscado:\n",
    "print(f'Targets ofuscados:')\n",
    "print()\n",
    "print(pd.DataFrame(yp_test).iloc[[995, 5]])"
   ]
  },
  {
   "cell_type": "code",
   "execution_count": 231,
   "metadata": {},
   "outputs": [
    {
     "name": "stdout",
     "output_type": "stream",
     "text": [
      "Predições com o modelo treinado somente com as features ofuscadas:\n",
      "\n",
      "            0\n",
      "995  0.747757\n",
      "5    0.262005\n"
     ]
    }
   ],
   "source": [
    "# Conferindo 2 objetivos selecionados - predição do modelo com somente features ofuscadas:\n",
    "print(f'Predições com o modelo treinado somente com as features ofuscadas:')\n",
    "print()\n",
    "print(pd.DataFrame(dazzled_predictions).iloc[[995, 5]])"
   ]
  },
  {
   "cell_type": "code",
   "execution_count": 232,
   "metadata": {},
   "outputs": [
    {
     "name": "stdout",
     "output_type": "stream",
     "text": [
      "Predições com o modelo treinado com as features e os targets ofuscados:\n",
      "\n",
      "            0\n",
      "995  0.541023\n",
      "5    0.890990\n"
     ]
    }
   ],
   "source": [
    "# Conferindo 2 objetivos selecionados - predição do modelo com features e target originais ofuscados:\n",
    "print(f'Predições com o modelo treinado com as features e os targets ofuscados:')\n",
    "print()\n",
    "print(pd.DataFrame(dazzled_predictions1).iloc[[995, 5]])"
   ]
  },
  {
   "cell_type": "markdown",
   "metadata": {},
   "source": [
    "- [x] **Tentando encontrar uma seed que melhore os resultados:**"
   ]
  },
  {
   "cell_type": "code",
   "execution_count": 265,
   "metadata": {},
   "outputs": [
    {
     "name": "stdout",
     "output_type": "stream",
     "text": [
      "A melhor seed é 33013 com uma diferença de 5.087792442907751.\n"
     ]
    }
   ],
   "source": [
    "target_original = df_scaled.iloc[:, 4]  # Target original\n",
    "\n",
    "best_seed = None\n",
    "best_diff = float('inf')  # Inicializa com um valor grande para comparação\n",
    "best_yp = None\n",
    "\n",
    "for seed in range(30000,40000):\n",
    "    rng = np.random.default_rng(seed=seed)\n",
    "    P = rng.random(size=(df_scaled.shape[1], df_scaled.shape[1]))\n",
    "    try:\n",
    "        inv_P = np.linalg.inv(P)\n",
    "        dazzled = df_scaled.to_numpy() @ P\n",
    "        Xp = dazzled[:, :3]\n",
    "        yp = dazzled[:, 4]\n",
    "        \n",
    "        \n",
    "        # Calcula a diferença absoluta entre yp e o target original\n",
    "        diff = np.linalg.norm(yp - target_original)\n",
    "        \n",
    "        # Atualiza a melhor seed se a diferença for menor\n",
    "        if diff < best_diff:\n",
    "            best_seed = seed\n",
    "            best_diff = diff\n",
    "            best_yp = yp\n",
    "            \n",
    "    except LinAlgError:\n",
    "        continue\n",
    "        \n",
    "print(f\"A melhor seed é {best_seed} com uma diferença de {best_diff}.\")"
   ]
  },
  {
   "cell_type": "code",
   "execution_count": 255,
   "metadata": {},
   "outputs": [],
   "source": [
    "# Aplicando o ofuscamento em todo o DataFrame original:\n",
    "# Gerando matriz aleatória P:\n",
    "rng = np.random.default_rng(seed=33013)\n",
    "P = rng.random(size=(df_scaled.shape[1], df_scaled.shape[1]))"
   ]
  },
  {
   "cell_type": "code",
   "execution_count": 256,
   "metadata": {},
   "outputs": [
    {
     "data": {
      "text/plain": [
       "array([[-0.23897239, -0.41664629,  1.75134957,  0.30653177, -0.03794919],\n",
       "       [-5.04718743,  6.11094144, -0.23022031,  3.45819846, -0.26974546],\n",
       "       [ 6.41381133, -4.4882623 , -0.23813164, -5.5026139 ,  0.45942842],\n",
       "       [-0.14739949, -1.37020985, -0.02890271,  1.7835817 , -0.21309133],\n",
       "       [ 2.01371266, -2.99431991, -0.836971  , -1.83271669,  1.31835836]])"
      ]
     },
     "execution_count": 256,
     "metadata": {},
     "output_type": "execute_result"
    }
   ],
   "source": [
    "# Conferindo se P é invertível:\n",
    "np.linalg.inv(P)"
   ]
  },
  {
   "cell_type": "code",
   "execution_count": 257,
   "metadata": {},
   "outputs": [
    {
     "name": "stdout",
     "output_type": "stream",
     "text": [
      "REQM do modelo treinado com os dados ofuscados tanto nas features quanto no target: 0.21\n"
     ]
    }
   ],
   "source": [
    "# Aplicando o ofuscamento em todo o DataFrame original:\n",
    "dazzled = df_scaled.to_numpy() @ P\n",
    "\n",
    "Xp = dazzled[:, :3]\n",
    "yp = dazzled[:, 4]\n",
    "\n",
    "Xp_train, Xp_test, yp_train, yp_test = train_test_split(Xp, yp, test_size=0.3, random_state=12345)\n",
    "\n",
    "dazzled_model1 = sklearn.linear_model.LinearRegression().fit(Xp_train, yp_train)\n",
    "dazzled_predictions1 = dazzled_model1.predict(Xp_test)\n",
    "dazzled_mse1 = sklearn.metrics.mean_squared_error(yp_test, dazzled_predictions)\n",
    "\n",
    "print(f'REQM do modelo treinado com os dados ofuscados tanto nas features quanto no target: {dazzled_mse1:.2f}')"
   ]
  },
  {
   "cell_type": "code",
   "execution_count": 258,
   "metadata": {},
   "outputs": [
    {
     "name": "stdout",
     "output_type": "stream",
     "text": [
      "Targets ofuscados:\n",
      "\n",
      "            0\n",
      "995  0.047533\n",
      "5    0.050894\n"
     ]
    }
   ],
   "source": [
    "# Conferindo 2 objetivos selecionados - target ofuscado:\n",
    "print(f'Targets ofuscados:')\n",
    "print()\n",
    "print(pd.DataFrame(yp_test).iloc[[995, 5]])"
   ]
  },
  {
   "cell_type": "markdown",
   "metadata": {},
   "source": [
    "<div class=\"alert alert-block alert-success\">\n",
    "\n",
    "<b>Comentário: </b> <a class=\"tocSkip\"></a>\n",
    "\n",
    "Tarefas de ofuscamento de dados realizadas com sucesso.\n",
    "- Correto processamento das matrizes\n",
    "- Comentários com as observações dos modelos após ofuscamento foram adicionados\n",
    "</div>"
   ]
  },
  {
   "cell_type": "markdown",
   "metadata": {},
   "source": [
    "- [x] **Independente da matriz utilizada para o ofuscamento dos dados, o REQM será sempre afetado de forma significativa.**\n",
    "\n",
    "## Conclusões"
   ]
  },
  {
   "cell_type": "markdown",
   "metadata": {},
   "source": [
    "Este trabalho explorou a aplicação de técnicas de aprendizado de máquina para resolver problemas de uma companhia de seguros, \"Proteja Seu Amanhã\". O objetivo foi analisar o impacto de diferentes abordagens e métodos de pré-processamento para tarefas de identificação de clientes semelhantes, previsão de pagamentos de seguros e regressão, além de garantir a proteção dos dados pessoais dos clientes por meio do mascaramento de dados."
   ]
  },
  {
   "cell_type": "markdown",
   "metadata": {},
   "source": [
    "### Tarefa 1: Encontrar Clientes Semelhantes\n",
    "\n",
    "- O algoritmo de *kNN* foi utilizado para identificar os vizinhos mais próximos de um cliente com base nas características fornecidas.\n",
    "- O pré-processamento dos dados mostrou que a *escalabilidade* afeta significativamente os resultados:\n",
    " - **Dados não escalados** resultaram em distâncias mais amplas entre os pontos.\n",
    " - **Dados escalados** produziram melhores resultados em termos de precisão da proximidade.\n",
    "- A métrica de **distância Euclidiana** apresentou desempenho ligeiramente superior à distância Manhattan, embora ambas mostrassem resultados consistentes, com as distâncias entre vizinhos mudando a partir do terceiro vizinho.\n",
    "\n",
    "### Tarefa 2: Predição de Pagamentos de Seguro\n",
    "\n",
    "- A tarefa foi tratada como um problema de **classificação binária**. Comparou-se a abordagem de kNN com um modelo dummy que prevê aleatoriamente pagamentos de seguro.\n",
    "- O modelo kNN apresentou desempenho muito superior ao modelo dummy, especialmente com **dados escalados**.\n",
    "- Para **k=1**, o modelo kNN obteve as melhores métricas, com a escalabilidade dos dados impactando diretamente o desempenho da classificação. O modelo com dados não escalados teve desempenho significativamente inferior.\n",
    "\n",
    "**F1-Score:** 0.949254\n",
    "\n",
    "**Modelo:** `knn_predictions(df_scaled_train, df_scaled_test, k=1, 'euclidean')`\n",
    "\n",
    "### Tarefa 3: Regressão Linear\n",
    "\n",
    "- A **Regressão Linear** foi aplicada para prever o *número* de pagamentos de seguro, com a métrica **REQM** usada para avaliar o modelo.\n",
    "- A implementação própria da regressão linear demonstrou que, os dados escalados alteram os pesos da regressão, gerando possíveis resultados alterados em todas as previsões, de acordo com a *matriz P* utilizada.\n",
    "\n",
    "### Tarefa 4: Ofuscação de Dados\n",
    "\n",
    "- Para proteger os dados, foi aplicado um algoritmo de **mascaramento de dados** que multiplica as características numéricas por uma *matriz invertível*.\n",
    "- A transformação preservou a integridade dos dados enquanto dificultava a recuperação de informações pessoais.\n",
    "- A matriz utilizada para multiplicação foi escolhida para ser invertível, garantindo que a transformação fosse *reversível*; porém o **REQM** do modelo sofreu fortes alterações, variando de **0.12** *(modelo treinado com os dados originais)* para **0.21** no *modelo treinado com a melhor seed aleatória possível* (a que menos distorcia os targets).\n",
    "- Os modelos treinados com somente as *features* ofuscadas obtiveram **REQM** ainda pior, de cerca de **0.27**.\n",
    "\n",
    "### Observações Finais\n",
    "\n",
    "- O estudo demonstrou que o aprendizado de máquina pode ser **eficaz** para tarefas como recomendação de clientes semelhantes e previsão de pagamentos de seguro.\n",
    "- A **escalabilidade** dos dados tem um impacto significativo nos modelos de aprendizado de máquina, com a normalização melhorando a precisão das predições.\n",
    "- A **ofuscação de dados** foi implementada com sucesso prejudicando o mínimo *possível* o desempenho dos modelos, oferecendo uma solução para proteger informações sensíveis.\n",
    "\n",
    "**Melhores modelos:**\n",
    " - *Predição de Clientes Similares:* `get_knn(df_scaled, n, 6, 'euclidean')`\n",
    " - *Predição Binária de pagamentos de seguros:* `knn_predictions(df_scaled_train, df_scaled_test, k=1, 'euclidean')`\n",
    " - *Regressão Linear de pagamentos de seguros com ofuscamento dos dados:* `LinearRegression().fit(Xp_train, yp_train)`\n",
    "```\n",
    "# Ofuscamento dos dados:\n",
    "rng = np.random.default_rng(seed=33013)\n",
    "P = rng.random(size=(df_scaled.shape[1], df_scaled.shape[1]))\n",
    "```\n",
    "```\n",
    "dazzled = df_scaled.to_numpy() @ P\n",
    "```\n",
    "```\n",
    "Xp = dazzled[:, :3]\n",
    "yp = dazzled[:, 4]\n",
    "```"
   ]
  },
  {
   "cell_type": "markdown",
   "metadata": {},
   "source": [
    "<div class=\"alert alert-block alert-success\">\n",
    "\n",
    "<b>Comentário: </b> <a class=\"tocSkip\"></a>\n",
    "\n",
    "Conclusões muito bem fundamentadas! Gostei da sequência de comentários de cada tarefa. Demonstra alto nível crítico dos dados.\n",
    "</div>"
   ]
  },
  {
   "cell_type": "markdown",
   "metadata": {},
   "source": [
    "# Checklist"
   ]
  },
  {
   "cell_type": "markdown",
   "metadata": {},
   "source": [
    "Digite 'x' para verificar. Em seguida, pressione Shift + Enter."
   ]
  },
  {
   "cell_type": "markdown",
   "metadata": {},
   "source": [
    "- [x]  O Jupyter Notebook está aberto.\n",
    "- [x]  O código está livre de erros\n",
    "- [ ]  As células são organizadas em ordem de lógica e execução\n",
    "- [x]  A tarefa 1 foi executada\n",
    "    - [x]  Existe o procedimento que pode retornar k clientes semelhantes a um determinado cliente\n",
    "    - [x]  O procedimento é testado para todas as quatro combinações propostas\n",
    "    - [x]  As perguntas sobre a escala/distâncias são respondidas\n",
    "- [x]  A tarefa 2 foi executada\n",
    "    - [x]  O modelo de classificação aleatória é construído e testado para todos os níveis de probabilidade\n",
    "    - [x]  O modelo de classificação kNN é construído e testado tanto para os dados originais quanto para os escalados, a métrica F1 é calculada.\n",
    "- [x]  A tarefa 3 foi executada\n",
    "    - [x]  A solução de regressão linear é implementada com operações matriciais.\n",
    "    - [x]  O REQM é calculado para a solução implementada.\n",
    "- [x]  A tarefa 4 foi executada\n",
    "    - [x]  Os dados são ofuscados com uma matriz P aleatória e invertível\n",
    "    - [x]  Os dados ofuscados são recuperados, alguns exemplos são impressos\n",
    "    - [ ]  A prova analítica de que a transformação não afeta o REQM é fornecida\n",
    "    - [ ]  A prova computacional de que a transformação não afeta o REQM é fornecida\n",
    "    - [x]  As conclusões foram feitas"
   ]
  },
  {
   "cell_type": "markdown",
   "metadata": {},
   "source": [
    "# Apêndices\n",
    "\n",
    "## Apêndice A: Escrevendo Fórmulas em Notebooks Jupyter"
   ]
  },
  {
   "cell_type": "markdown",
   "metadata": {},
   "source": [
    "Você pode escrever fórmulas em seu Jupyter Notebook em uma linguagem de marcação de texto fornecida por um sistema de publicação de alta qualidade chamado $\\LaTeX$ (pronuncia-se \"Lah-tech\"), e elas se parecerão com fórmulas em livros didáticos.\n",
    "Para colocar uma fórmula em um texto, coloque o cifrão (`$`)  antes e depois do texto da fórmula, por exemplo $\\frac{1}{2} \\times \\frac{3}{2} = \\frac{3}{4}$ or $y = x^2, x \\ge 1$.\n",
    "\n",
    "Se uma fórmula deve estar em seu próprio parágrafo, coloque o cifrão duplo ($$) antes e depois do texto da fórmula, por exemplo\n",
    "\n",
    "$$\n",
    "\\bar{x} = \\frac{1}{n}\\sum_{i=1}^{n} x_i.\n",
    "$$\n",
    "\n",
    "A linguagem de marcação do [LaTeX](https://en.wikipedia.org/wiki/LaTeX) é muito popular entre as pessoas que usam fórmulas em seus artigos, livros e textos. Pode ser complexo, mas o básico é fácil. Confira esta [folha de dicas](http://tug.ctan.org/info/undergradmath/undergradmath.pdf) de duas páginas  para aprender a compor as fórmulas mais comuns."
   ]
  },
  {
   "cell_type": "markdown",
   "metadata": {},
   "source": [
    "## Apêndice B: Propriedades das Matrizes"
   ]
  },
  {
   "cell_type": "markdown",
   "metadata": {},
   "source": [
    "Matrizes têm muitas propriedades em Álgebra Linear. Algumas delas estão listadas aqui, o que pode ajudar na prova analítica deste projeto."
   ]
  },
  {
   "cell_type": "markdown",
   "metadata": {},
   "source": [
    "<table>\n",
    "<tr>\n",
    "<td>Distributividade</td><td>$A(B+C)=AB+AC$</td>\n",
    "</tr>\n",
    "<tr>\n",
    "<td>Não-comutatividade</td><td>$AB \\neq BA$</td>\n",
    "</tr>\n",
    "<tr>\n",
    "<td>Propriedade associativa da multiplicação</td><td>$(AB)C = A(BC)$</td>\n",
    "</tr>\n",
    "<tr>\n",
    "<td>Propriedade de identidade multiplicativa</td><td>$IA = AI = A$</td>\n",
    "</tr>\n",
    "<tr>\n",
    "<td></td><td>$A^{-1}A = AA^{-1} = I$\n",
    "</td>\n",
    "</tr>    \n",
    "<tr>\n",
    "<td></td><td>$(AB)^{-1} = B^{-1}A^{-1}$</td>\n",
    "</tr>    \n",
    "<tr>\n",
    "<td>Reversividade da transposição de um produto de matrizes,</td><td>$(AB)^T = B^TA^T$</td>\n",
    "</tr>    \n",
    "</table>"
   ]
  },
  {
   "cell_type": "code",
   "execution_count": null,
   "metadata": {},
   "outputs": [],
   "source": []
  }
 ],
 "metadata": {
  "ExecuteTimeLog": [
   {
    "duration": 2360,
    "start_time": "2024-11-28T18:38:40.560Z"
   },
   {
    "duration": 2595,
    "start_time": "2024-11-28T18:39:12.540Z"
   },
   {
    "duration": 12,
    "start_time": "2024-11-28T18:39:30.175Z"
   },
   {
    "duration": 4,
    "start_time": "2024-11-28T18:39:34.894Z"
   },
   {
    "duration": 11,
    "start_time": "2024-11-28T18:39:38.146Z"
   },
   {
    "duration": 10,
    "start_time": "2024-11-28T18:39:48.735Z"
   },
   {
    "duration": 3,
    "start_time": "2024-11-28T18:41:18.734Z"
   },
   {
    "duration": 8,
    "start_time": "2024-11-28T18:41:26.244Z"
   },
   {
    "duration": 11,
    "start_time": "2024-11-28T18:42:07.301Z"
   },
   {
    "duration": 6,
    "start_time": "2024-11-28T18:42:16.184Z"
   },
   {
    "duration": 12,
    "start_time": "2024-11-28T18:42:27.915Z"
   },
   {
    "duration": 17,
    "start_time": "2024-11-28T18:45:50.025Z"
   },
   {
    "duration": 385,
    "start_time": "2024-11-28T18:47:55.750Z"
   },
   {
    "duration": 2534,
    "start_time": "2024-11-28T18:53:28.880Z"
   },
   {
    "duration": 2349,
    "start_time": "2024-11-28T21:00:31.017Z"
   },
   {
    "duration": 2689,
    "start_time": "2024-11-28T21:00:41.906Z"
   },
   {
    "duration": 13,
    "start_time": "2024-11-28T21:00:50.874Z"
   },
   {
    "duration": 3,
    "start_time": "2024-11-28T21:00:53.624Z"
   },
   {
    "duration": 11,
    "start_time": "2024-11-28T21:00:54.233Z"
   },
   {
    "duration": 4,
    "start_time": "2024-11-28T21:00:56.755Z"
   },
   {
    "duration": 10,
    "start_time": "2024-11-28T21:00:57.232Z"
   },
   {
    "duration": 7,
    "start_time": "2024-11-28T21:00:59.492Z"
   },
   {
    "duration": 16,
    "start_time": "2024-11-28T21:01:00.269Z"
   },
   {
    "duration": 2529,
    "start_time": "2024-11-28T21:01:04.105Z"
   },
   {
    "duration": 2,
    "start_time": "2024-11-28T21:01:59.607Z"
   },
   {
    "duration": 4,
    "start_time": "2024-11-28T21:27:11.554Z"
   },
   {
    "duration": 8,
    "start_time": "2024-11-28T21:28:20.850Z"
   },
   {
    "duration": 8,
    "start_time": "2024-11-28T21:28:23.992Z"
   },
   {
    "duration": 7,
    "start_time": "2024-11-28T21:28:59.699Z"
   },
   {
    "duration": 303,
    "start_time": "2024-11-28T21:35:09.439Z"
   },
   {
    "duration": 3,
    "start_time": "2024-11-28T21:36:12.694Z"
   },
   {
    "duration": 117,
    "start_time": "2024-11-28T21:36:17.294Z"
   },
   {
    "duration": 3,
    "start_time": "2024-11-28T21:39:22.300Z"
   },
   {
    "duration": 4,
    "start_time": "2024-11-28T21:39:28.206Z"
   },
   {
    "duration": 15,
    "start_time": "2024-11-28T21:39:34.094Z"
   },
   {
    "duration": 13,
    "start_time": "2024-11-28T21:39:56.252Z"
   },
   {
    "duration": 21,
    "start_time": "2024-11-28T21:41:32.319Z"
   },
   {
    "duration": 14,
    "start_time": "2024-11-28T21:43:23.328Z"
   },
   {
    "duration": 14,
    "start_time": "2024-11-28T21:43:31.373Z"
   },
   {
    "duration": 13,
    "start_time": "2024-11-28T21:43:39.812Z"
   },
   {
    "duration": 109,
    "start_time": "2024-11-28T21:43:47.152Z"
   },
   {
    "duration": 14,
    "start_time": "2024-11-28T21:43:50.984Z"
   },
   {
    "duration": 14,
    "start_time": "2024-11-28T21:43:55.464Z"
   },
   {
    "duration": 14,
    "start_time": "2024-11-28T21:44:05.589Z"
   },
   {
    "duration": 14,
    "start_time": "2024-11-28T21:44:18.535Z"
   },
   {
    "duration": 23,
    "start_time": "2024-11-28T21:45:07.047Z"
   },
   {
    "duration": 15,
    "start_time": "2024-11-28T21:46:58.977Z"
   },
   {
    "duration": 21,
    "start_time": "2024-11-28T21:48:13.293Z"
   },
   {
    "duration": 5,
    "start_time": "2024-11-28T22:08:33.657Z"
   },
   {
    "duration": 6,
    "start_time": "2024-11-28T22:14:26.986Z"
   },
   {
    "duration": 3,
    "start_time": "2024-11-28T22:20:19.399Z"
   },
   {
    "duration": 3,
    "start_time": "2024-11-28T22:25:34.961Z"
   },
   {
    "duration": 20,
    "start_time": "2024-11-28T22:28:25.004Z"
   },
   {
    "duration": 4,
    "start_time": "2024-11-28T22:45:08.919Z"
   },
   {
    "duration": 5,
    "start_time": "2024-11-28T22:51:04.767Z"
   },
   {
    "duration": 25,
    "start_time": "2024-11-28T23:03:44.516Z"
   },
   {
    "duration": 1093,
    "start_time": "2024-11-28T23:04:02.853Z"
   },
   {
    "duration": 1232,
    "start_time": "2024-11-28T23:05:41.109Z"
   },
   {
    "duration": 592,
    "start_time": "2024-11-28T23:07:45.256Z"
   },
   {
    "duration": 3,
    "start_time": "2024-11-28T23:15:01.242Z"
   },
   {
    "duration": 20,
    "start_time": "2024-11-28T23:15:05.322Z"
   },
   {
    "duration": 208,
    "start_time": "2024-11-28T23:17:22.788Z"
   },
   {
    "duration": 1164,
    "start_time": "2024-11-28T23:20:44.738Z"
   },
   {
    "duration": 11,
    "start_time": "2024-11-28T23:22:02.366Z"
   },
   {
    "duration": 3,
    "start_time": "2024-11-28T23:22:18.551Z"
   },
   {
    "duration": 13,
    "start_time": "2024-11-28T23:22:35.692Z"
   },
   {
    "duration": 115,
    "start_time": "2024-11-28T23:22:48.860Z"
   },
   {
    "duration": 18,
    "start_time": "2024-11-28T23:23:43.196Z"
   },
   {
    "duration": 12,
    "start_time": "2024-11-28T23:23:50.262Z"
   },
   {
    "duration": 4,
    "start_time": "2024-11-28T23:24:12.180Z"
   },
   {
    "duration": 96,
    "start_time": "2024-11-28T23:25:24.161Z"
   },
   {
    "duration": 558,
    "start_time": "2024-11-28T23:25:44.950Z"
   },
   {
    "duration": 4,
    "start_time": "2024-11-28T23:26:11.627Z"
   },
   {
    "duration": 7,
    "start_time": "2024-11-28T23:26:43.252Z"
   },
   {
    "duration": 10,
    "start_time": "2024-11-28T23:27:34.284Z"
   },
   {
    "duration": 10,
    "start_time": "2024-11-28T23:27:51.637Z"
   },
   {
    "duration": 11,
    "start_time": "2024-11-28T23:28:09.346Z"
   },
   {
    "duration": 9,
    "start_time": "2024-11-28T23:28:20.818Z"
   },
   {
    "duration": 3,
    "start_time": "2024-11-28T23:29:24.924Z"
   },
   {
    "duration": 1199,
    "start_time": "2024-11-28T23:29:34.307Z"
   },
   {
    "duration": 551,
    "start_time": "2024-11-28T23:29:43.553Z"
   },
   {
    "duration": 9,
    "start_time": "2024-11-28T23:30:38.481Z"
   },
   {
    "duration": 2104,
    "start_time": "2024-11-28T23:32:43.943Z"
   },
   {
    "duration": 992,
    "start_time": "2024-11-28T23:32:46.050Z"
   },
   {
    "duration": 8,
    "start_time": "2024-11-28T23:32:47.044Z"
   },
   {
    "duration": 2,
    "start_time": "2024-11-28T23:32:47.054Z"
   },
   {
    "duration": 9,
    "start_time": "2024-11-28T23:32:47.059Z"
   },
   {
    "duration": 9,
    "start_time": "2024-11-28T23:32:47.070Z"
   },
   {
    "duration": 3,
    "start_time": "2024-11-28T23:32:47.082Z"
   },
   {
    "duration": 9,
    "start_time": "2024-11-28T23:32:47.087Z"
   },
   {
    "duration": 40,
    "start_time": "2024-11-28T23:32:47.098Z"
   },
   {
    "duration": 16,
    "start_time": "2024-11-28T23:32:47.140Z"
   },
   {
    "duration": 2553,
    "start_time": "2024-11-28T23:32:47.158Z"
   },
   {
    "duration": 3,
    "start_time": "2024-11-28T23:32:49.713Z"
   },
   {
    "duration": 5,
    "start_time": "2024-11-28T23:32:49.717Z"
   },
   {
    "duration": 8,
    "start_time": "2024-11-28T23:32:49.725Z"
   },
   {
    "duration": 8,
    "start_time": "2024-11-28T23:32:49.735Z"
   },
   {
    "duration": 18,
    "start_time": "2024-11-28T23:32:49.744Z"
   },
   {
    "duration": 32,
    "start_time": "2024-11-28T23:32:49.764Z"
   },
   {
    "duration": 14,
    "start_time": "2024-11-28T23:32:49.799Z"
   },
   {
    "duration": 21,
    "start_time": "2024-11-28T23:32:49.832Z"
   },
   {
    "duration": 5,
    "start_time": "2024-11-28T23:32:49.855Z"
   },
   {
    "duration": 5,
    "start_time": "2024-11-28T23:32:49.862Z"
   },
   {
    "duration": 3,
    "start_time": "2024-11-28T23:32:49.868Z"
   },
   {
    "duration": 3,
    "start_time": "2024-11-28T23:32:49.873Z"
   },
   {
    "duration": 19,
    "start_time": "2024-11-28T23:32:49.878Z"
   },
   {
    "duration": 32,
    "start_time": "2024-11-28T23:32:49.899Z"
   },
   {
    "duration": 5,
    "start_time": "2024-11-28T23:32:49.939Z"
   },
   {
    "duration": 1218,
    "start_time": "2024-11-28T23:32:49.947Z"
   },
   {
    "duration": 581,
    "start_time": "2024-11-28T23:32:51.167Z"
   },
   {
    "duration": 4,
    "start_time": "2024-11-28T23:32:51.749Z"
   },
   {
    "duration": 0,
    "start_time": "2024-11-28T23:32:51.755Z"
   },
   {
    "duration": 0,
    "start_time": "2024-11-28T23:32:51.756Z"
   },
   {
    "duration": 0,
    "start_time": "2024-11-28T23:32:51.757Z"
   },
   {
    "duration": 0,
    "start_time": "2024-11-28T23:32:51.758Z"
   },
   {
    "duration": 0,
    "start_time": "2024-11-28T23:32:51.760Z"
   },
   {
    "duration": 58,
    "start_time": "2024-11-28T23:34:17.510Z"
   },
   {
    "duration": 3,
    "start_time": "2024-11-28T23:34:26.468Z"
   },
   {
    "duration": 4,
    "start_time": "2024-11-28T23:34:44.808Z"
   },
   {
    "duration": 29,
    "start_time": "2024-11-28T23:34:55.310Z"
   },
   {
    "duration": 4,
    "start_time": "2024-11-28T23:34:56.024Z"
   },
   {
    "duration": 28,
    "start_time": "2024-11-28T23:35:15.737Z"
   },
   {
    "duration": 4,
    "start_time": "2024-11-28T23:35:16.331Z"
   },
   {
    "duration": 10,
    "start_time": "2024-11-28T23:35:51.445Z"
   },
   {
    "duration": 10,
    "start_time": "2024-11-28T23:35:56.280Z"
   },
   {
    "duration": 5,
    "start_time": "2024-11-28T23:36:23.188Z"
   },
   {
    "duration": 6,
    "start_time": "2024-11-28T23:36:30.740Z"
   },
   {
    "duration": 687,
    "start_time": "2024-11-28T23:36:39.727Z"
   },
   {
    "duration": 10,
    "start_time": "2024-11-28T23:36:45.196Z"
   },
   {
    "duration": 4,
    "start_time": "2024-11-28T23:37:14.912Z"
   },
   {
    "duration": 9,
    "start_time": "2024-11-28T23:37:19.527Z"
   },
   {
    "duration": 9,
    "start_time": "2024-11-28T23:37:25.408Z"
   },
   {
    "duration": 575,
    "start_time": "2024-11-28T23:37:47.068Z"
   },
   {
    "duration": 55,
    "start_time": "2024-11-28T23:37:56.496Z"
   },
   {
    "duration": 3,
    "start_time": "2024-11-28T23:39:30.049Z"
   },
   {
    "duration": 182,
    "start_time": "2024-11-28T23:39:35.213Z"
   },
   {
    "duration": 4,
    "start_time": "2024-11-28T23:40:43.781Z"
   },
   {
    "duration": 608,
    "start_time": "2024-11-28T23:40:46.040Z"
   },
   {
    "duration": 781,
    "start_time": "2024-11-28T23:41:14.460Z"
   },
   {
    "duration": 50,
    "start_time": "2024-11-28T23:44:48.033Z"
   },
   {
    "duration": 3,
    "start_time": "2024-11-28T23:45:07.243Z"
   },
   {
    "duration": 656,
    "start_time": "2024-11-28T23:45:13.100Z"
   },
   {
    "duration": 589,
    "start_time": "2024-11-28T23:45:46.763Z"
   },
   {
    "duration": 3,
    "start_time": "2024-11-28T23:49:48.041Z"
   },
   {
    "duration": 3,
    "start_time": "2024-11-28T23:50:17.846Z"
   },
   {
    "duration": 60,
    "start_time": "2024-11-28T23:50:33.206Z"
   },
   {
    "duration": 4,
    "start_time": "2024-11-28T23:51:00.877Z"
   },
   {
    "duration": 618,
    "start_time": "2024-11-28T23:51:11.789Z"
   },
   {
    "duration": 610,
    "start_time": "2024-11-28T23:51:38.403Z"
   },
   {
    "duration": 609,
    "start_time": "2024-11-28T23:51:43.714Z"
   },
   {
    "duration": 611,
    "start_time": "2024-11-28T23:52:40.859Z"
   },
   {
    "duration": 594,
    "start_time": "2024-11-28T23:53:00.351Z"
   },
   {
    "duration": 773,
    "start_time": "2024-11-28T23:54:54.300Z"
   },
   {
    "duration": 765,
    "start_time": "2024-11-28T23:55:00.005Z"
   },
   {
    "duration": 777,
    "start_time": "2024-11-28T23:55:48.639Z"
   },
   {
    "duration": 792,
    "start_time": "2024-11-28T23:55:59.823Z"
   },
   {
    "duration": 597,
    "start_time": "2024-11-28T23:56:45.877Z"
   },
   {
    "duration": 2385,
    "start_time": "2024-11-29T01:07:18.885Z"
   },
   {
    "duration": 2819,
    "start_time": "2024-11-29T01:07:21.273Z"
   },
   {
    "duration": 12,
    "start_time": "2024-11-29T01:07:24.094Z"
   },
   {
    "duration": 4,
    "start_time": "2024-11-29T01:07:24.109Z"
   },
   {
    "duration": 11,
    "start_time": "2024-11-29T01:07:24.115Z"
   },
   {
    "duration": 23,
    "start_time": "2024-11-29T01:07:24.128Z"
   },
   {
    "duration": 3,
    "start_time": "2024-11-29T01:07:24.153Z"
   },
   {
    "duration": 9,
    "start_time": "2024-11-29T01:07:24.158Z"
   },
   {
    "duration": 8,
    "start_time": "2024-11-29T01:07:24.168Z"
   },
   {
    "duration": 17,
    "start_time": "2024-11-29T01:07:24.179Z"
   },
   {
    "duration": 2717,
    "start_time": "2024-11-29T01:07:24.198Z"
   },
   {
    "duration": 3,
    "start_time": "2024-11-29T01:07:26.917Z"
   },
   {
    "duration": 4,
    "start_time": "2024-11-29T01:07:26.922Z"
   },
   {
    "duration": 14,
    "start_time": "2024-11-29T01:07:26.928Z"
   },
   {
    "duration": 77,
    "start_time": "2024-11-29T01:07:26.944Z"
   },
   {
    "duration": 26,
    "start_time": "2024-11-29T01:07:27.023Z"
   },
   {
    "duration": 22,
    "start_time": "2024-11-29T01:07:27.050Z"
   },
   {
    "duration": 12,
    "start_time": "2024-11-29T01:07:27.074Z"
   },
   {
    "duration": 20,
    "start_time": "2024-11-29T01:07:27.088Z"
   },
   {
    "duration": 4,
    "start_time": "2024-11-29T01:07:27.109Z"
   },
   {
    "duration": 5,
    "start_time": "2024-11-29T01:07:27.142Z"
   },
   {
    "duration": 4,
    "start_time": "2024-11-29T01:07:27.148Z"
   },
   {
    "duration": 4,
    "start_time": "2024-11-29T01:07:27.154Z"
   },
   {
    "duration": 21,
    "start_time": "2024-11-29T01:07:27.161Z"
   },
   {
    "duration": 3,
    "start_time": "2024-11-29T01:07:27.184Z"
   },
   {
    "duration": 6,
    "start_time": "2024-11-29T01:07:27.189Z"
   },
   {
    "duration": 4,
    "start_time": "2024-11-29T01:07:27.196Z"
   },
   {
    "duration": 627,
    "start_time": "2024-11-29T01:07:27.204Z"
   },
   {
    "duration": 774,
    "start_time": "2024-11-29T01:07:27.833Z"
   },
   {
    "duration": 5,
    "start_time": "2024-11-29T01:07:28.609Z"
   },
   {
    "duration": 0,
    "start_time": "2024-11-29T01:07:28.616Z"
   },
   {
    "duration": 0,
    "start_time": "2024-11-29T01:07:28.617Z"
   },
   {
    "duration": 0,
    "start_time": "2024-11-29T01:07:28.619Z"
   },
   {
    "duration": 0,
    "start_time": "2024-11-29T01:07:28.620Z"
   },
   {
    "duration": 0,
    "start_time": "2024-11-29T01:07:28.622Z"
   },
   {
    "duration": 4,
    "start_time": "2024-11-29T01:48:34.681Z"
   },
   {
    "duration": 4,
    "start_time": "2024-11-29T01:49:00.841Z"
   },
   {
    "duration": 5,
    "start_time": "2024-11-29T02:15:22.207Z"
   },
   {
    "duration": 3,
    "start_time": "2024-11-29T02:15:28.938Z"
   },
   {
    "duration": 352,
    "start_time": "2024-11-29T02:30:24.548Z"
   },
   {
    "duration": 4,
    "start_time": "2024-11-29T02:34:03.158Z"
   },
   {
    "duration": 43,
    "start_time": "2024-11-29T02:34:04.902Z"
   },
   {
    "duration": 3,
    "start_time": "2024-11-29T02:34:12.865Z"
   },
   {
    "duration": 89,
    "start_time": "2024-11-29T02:34:14.655Z"
   },
   {
    "duration": 4,
    "start_time": "2024-11-29T02:35:30.348Z"
   },
   {
    "duration": 102,
    "start_time": "2024-11-29T02:35:32.546Z"
   },
   {
    "duration": 3,
    "start_time": "2024-11-29T02:35:50.208Z"
   },
   {
    "duration": 11,
    "start_time": "2024-11-29T02:35:59.340Z"
   },
   {
    "duration": 14,
    "start_time": "2024-11-29T02:38:48.597Z"
   },
   {
    "duration": 8,
    "start_time": "2024-11-29T02:39:03.796Z"
   },
   {
    "duration": 8,
    "start_time": "2024-11-29T02:40:25.009Z"
   },
   {
    "duration": 9,
    "start_time": "2024-11-29T02:40:55.356Z"
   },
   {
    "duration": 4,
    "start_time": "2024-11-29T02:41:31.789Z"
   },
   {
    "duration": 2424,
    "start_time": "2024-12-05T19:35:19.417Z"
   },
   {
    "duration": 2710,
    "start_time": "2024-12-05T19:35:21.844Z"
   },
   {
    "duration": 15,
    "start_time": "2024-12-05T19:35:24.556Z"
   },
   {
    "duration": 3,
    "start_time": "2024-12-05T19:35:24.573Z"
   },
   {
    "duration": 11,
    "start_time": "2024-12-05T19:35:24.580Z"
   },
   {
    "duration": 23,
    "start_time": "2024-12-05T19:35:24.593Z"
   },
   {
    "duration": 3,
    "start_time": "2024-12-05T19:35:24.617Z"
   },
   {
    "duration": 8,
    "start_time": "2024-12-05T19:35:24.622Z"
   },
   {
    "duration": 8,
    "start_time": "2024-12-05T19:35:24.632Z"
   },
   {
    "duration": 16,
    "start_time": "2024-12-05T19:35:24.642Z"
   },
   {
    "duration": 2745,
    "start_time": "2024-12-05T19:35:24.660Z"
   },
   {
    "duration": 2,
    "start_time": "2024-12-05T19:35:27.408Z"
   },
   {
    "duration": 10,
    "start_time": "2024-12-05T19:35:27.412Z"
   },
   {
    "duration": 13,
    "start_time": "2024-12-05T19:35:27.427Z"
   },
   {
    "duration": 11,
    "start_time": "2024-12-05T19:35:27.442Z"
   },
   {
    "duration": 19,
    "start_time": "2024-12-05T19:35:27.456Z"
   },
   {
    "duration": 64,
    "start_time": "2024-12-05T19:35:27.477Z"
   },
   {
    "duration": 13,
    "start_time": "2024-12-05T19:35:27.543Z"
   },
   {
    "duration": 26,
    "start_time": "2024-12-05T19:35:27.558Z"
   },
   {
    "duration": 9,
    "start_time": "2024-12-05T19:35:27.586Z"
   },
   {
    "duration": 7,
    "start_time": "2024-12-05T19:35:27.613Z"
   },
   {
    "duration": 5,
    "start_time": "2024-12-05T19:35:27.624Z"
   },
   {
    "duration": 4,
    "start_time": "2024-12-05T19:35:27.632Z"
   },
   {
    "duration": 21,
    "start_time": "2024-12-05T19:35:27.639Z"
   },
   {
    "duration": 5,
    "start_time": "2024-12-05T19:35:27.662Z"
   },
   {
    "duration": 7,
    "start_time": "2024-12-05T19:35:27.669Z"
   },
   {
    "duration": 4,
    "start_time": "2024-12-05T19:35:27.709Z"
   },
   {
    "duration": 741,
    "start_time": "2024-12-05T19:35:27.717Z"
   },
   {
    "duration": 907,
    "start_time": "2024-12-05T19:35:28.461Z"
   },
   {
    "duration": 4,
    "start_time": "2024-12-05T19:35:29.370Z"
   },
   {
    "duration": 4,
    "start_time": "2024-12-05T19:35:29.377Z"
   },
   {
    "duration": 34,
    "start_time": "2024-12-05T19:35:29.383Z"
   },
   {
    "duration": 14,
    "start_time": "2024-12-05T19:35:29.420Z"
   },
   {
    "duration": 72,
    "start_time": "2024-12-05T19:35:29.436Z"
   },
   {
    "duration": 4,
    "start_time": "2024-12-05T19:35:29.512Z"
   },
   {
    "duration": 4,
    "start_time": "2024-12-05T19:35:29.518Z"
   },
   {
    "duration": 4,
    "start_time": "2024-12-05T19:52:01.051Z"
   },
   {
    "duration": 2,
    "start_time": "2024-12-05T19:54:43.093Z"
   },
   {
    "duration": 5,
    "start_time": "2024-12-05T19:54:49.210Z"
   },
   {
    "duration": 312,
    "start_time": "2024-12-05T19:55:03.200Z"
   },
   {
    "duration": 4,
    "start_time": "2024-12-05T19:55:06.567Z"
   },
   {
    "duration": 9,
    "start_time": "2024-12-05T19:55:23.503Z"
   },
   {
    "duration": 15,
    "start_time": "2024-12-05T19:57:48.490Z"
   },
   {
    "duration": 14,
    "start_time": "2024-12-05T20:01:12.067Z"
   },
   {
    "duration": 9,
    "start_time": "2024-12-05T20:01:19.240Z"
   },
   {
    "duration": 6,
    "start_time": "2024-12-05T20:01:24.100Z"
   },
   {
    "duration": 9,
    "start_time": "2024-12-05T20:02:21.067Z"
   },
   {
    "duration": 14,
    "start_time": "2024-12-05T20:10:06.723Z"
   },
   {
    "duration": 18,
    "start_time": "2024-12-05T20:12:52.698Z"
   },
   {
    "duration": 4,
    "start_time": "2024-12-05T20:13:11.263Z"
   },
   {
    "duration": 4,
    "start_time": "2024-12-05T20:13:20.459Z"
   },
   {
    "duration": 4,
    "start_time": "2024-12-05T20:13:43.994Z"
   },
   {
    "duration": 3,
    "start_time": "2024-12-05T20:13:55.728Z"
   },
   {
    "duration": 3,
    "start_time": "2024-12-05T20:13:59.496Z"
   },
   {
    "duration": 6,
    "start_time": "2024-12-05T20:14:46.237Z"
   },
   {
    "duration": 7,
    "start_time": "2024-12-05T20:14:54.199Z"
   },
   {
    "duration": 5,
    "start_time": "2024-12-05T20:14:56.716Z"
   },
   {
    "duration": 5,
    "start_time": "2024-12-05T20:14:58.721Z"
   },
   {
    "duration": 8,
    "start_time": "2024-12-05T20:16:12.823Z"
   },
   {
    "duration": 8,
    "start_time": "2024-12-05T20:16:45.471Z"
   },
   {
    "duration": 5,
    "start_time": "2024-12-05T20:17:37.005Z"
   },
   {
    "duration": 8,
    "start_time": "2024-12-05T20:17:58.720Z"
   },
   {
    "duration": 11,
    "start_time": "2024-12-05T20:18:38.897Z"
   },
   {
    "duration": 9,
    "start_time": "2024-12-05T20:20:06.572Z"
   },
   {
    "duration": 13,
    "start_time": "2024-12-05T20:22:24.526Z"
   },
   {
    "duration": 4,
    "start_time": "2024-12-05T20:22:27.267Z"
   },
   {
    "duration": 371,
    "start_time": "2024-12-05T20:22:46.297Z"
   },
   {
    "duration": 4,
    "start_time": "2024-12-05T20:23:18.262Z"
   },
   {
    "duration": 13,
    "start_time": "2024-12-05T20:23:24.209Z"
   },
   {
    "duration": 4,
    "start_time": "2024-12-05T20:23:29.628Z"
   },
   {
    "duration": 7,
    "start_time": "2024-12-05T20:23:45.669Z"
   },
   {
    "duration": 5,
    "start_time": "2024-12-05T20:24:56.405Z"
   },
   {
    "duration": 8,
    "start_time": "2024-12-05T20:25:10.709Z"
   },
   {
    "duration": 13,
    "start_time": "2024-12-05T20:33:31.751Z"
   },
   {
    "duration": 3,
    "start_time": "2024-12-05T20:33:34.538Z"
   },
   {
    "duration": 14,
    "start_time": "2024-12-05T20:34:01.427Z"
   },
   {
    "duration": 350,
    "start_time": "2024-12-05T20:34:10.212Z"
   },
   {
    "duration": 33,
    "start_time": "2024-12-05T20:34:27.343Z"
   },
   {
    "duration": 367,
    "start_time": "2024-12-05T20:34:33.394Z"
   },
   {
    "duration": 4,
    "start_time": "2024-12-05T20:34:36.551Z"
   },
   {
    "duration": 3,
    "start_time": "2024-12-05T20:34:50.523Z"
   },
   {
    "duration": 11,
    "start_time": "2024-12-05T20:35:01.459Z"
   },
   {
    "duration": 14,
    "start_time": "2024-12-05T20:35:06.872Z"
   },
   {
    "duration": 6,
    "start_time": "2024-12-05T20:35:10.979Z"
   },
   {
    "duration": 44,
    "start_time": "2024-12-05T20:35:18.882Z"
   },
   {
    "duration": 5,
    "start_time": "2024-12-05T20:35:24.993Z"
   },
   {
    "duration": 4,
    "start_time": "2024-12-05T20:35:47.066Z"
   },
   {
    "duration": 8,
    "start_time": "2024-12-05T20:36:05.983Z"
   },
   {
    "duration": 7,
    "start_time": "2024-12-05T20:36:34.828Z"
   },
   {
    "duration": 15,
    "start_time": "2024-12-05T20:38:00.893Z"
   },
   {
    "duration": 3,
    "start_time": "2024-12-05T20:38:13.508Z"
   },
   {
    "duration": 4,
    "start_time": "2024-12-05T20:38:39.361Z"
   },
   {
    "duration": 4,
    "start_time": "2024-12-05T20:38:47.664Z"
   },
   {
    "duration": 3,
    "start_time": "2024-12-05T20:38:50.801Z"
   },
   {
    "duration": 4,
    "start_time": "2024-12-05T20:38:53.287Z"
   },
   {
    "duration": 17,
    "start_time": "2024-12-05T20:39:01.358Z"
   },
   {
    "duration": 5,
    "start_time": "2024-12-05T20:39:11.892Z"
   },
   {
    "duration": 4,
    "start_time": "2024-12-05T20:39:21.695Z"
   },
   {
    "duration": 3,
    "start_time": "2024-12-05T20:39:29.113Z"
   },
   {
    "duration": 4,
    "start_time": "2024-12-05T20:39:31.405Z"
   },
   {
    "duration": 3,
    "start_time": "2024-12-05T20:39:33.577Z"
   },
   {
    "duration": 14,
    "start_time": "2024-12-05T20:39:47.437Z"
   },
   {
    "duration": 3,
    "start_time": "2024-12-05T20:39:58.092Z"
   },
   {
    "duration": 4,
    "start_time": "2024-12-05T20:40:05.291Z"
   },
   {
    "duration": 4,
    "start_time": "2024-12-05T20:40:08.786Z"
   },
   {
    "duration": 4,
    "start_time": "2024-12-05T20:40:14.381Z"
   },
   {
    "duration": 15,
    "start_time": "2024-12-05T20:40:17.143Z"
   },
   {
    "duration": 4,
    "start_time": "2024-12-05T20:40:21.598Z"
   },
   {
    "duration": 14,
    "start_time": "2024-12-05T20:40:41.130Z"
   },
   {
    "duration": 4,
    "start_time": "2024-12-05T20:40:45.861Z"
   },
   {
    "duration": 4,
    "start_time": "2024-12-05T20:40:51.897Z"
   },
   {
    "duration": 4,
    "start_time": "2024-12-05T20:41:00.695Z"
   },
   {
    "duration": 4,
    "start_time": "2024-12-05T20:41:05.622Z"
   },
   {
    "duration": 4,
    "start_time": "2024-12-05T20:41:11.580Z"
   },
   {
    "duration": 4,
    "start_time": "2024-12-05T20:46:36.968Z"
   },
   {
    "duration": 9,
    "start_time": "2024-12-05T20:46:55.889Z"
   },
   {
    "duration": 8,
    "start_time": "2024-12-05T20:47:01.948Z"
   },
   {
    "duration": 9,
    "start_time": "2024-12-05T20:47:03.261Z"
   },
   {
    "duration": 9,
    "start_time": "2024-12-05T20:48:05.041Z"
   },
   {
    "duration": 4,
    "start_time": "2024-12-05T20:48:18.017Z"
   },
   {
    "duration": 6,
    "start_time": "2024-12-05T20:48:27.558Z"
   },
   {
    "duration": 4,
    "start_time": "2024-12-05T20:48:34.345Z"
   },
   {
    "duration": 6,
    "start_time": "2024-12-05T20:48:37.875Z"
   },
   {
    "duration": 20,
    "start_time": "2024-12-05T20:48:41.294Z"
   },
   {
    "duration": 6,
    "start_time": "2024-12-05T20:48:43.986Z"
   },
   {
    "duration": 4,
    "start_time": "2024-12-05T20:48:58.915Z"
   },
   {
    "duration": 4,
    "start_time": "2024-12-05T20:49:04.053Z"
   },
   {
    "duration": 9,
    "start_time": "2024-12-05T20:49:07.540Z"
   },
   {
    "duration": 7,
    "start_time": "2024-12-05T20:49:11.045Z"
   },
   {
    "duration": 3,
    "start_time": "2024-12-05T20:49:27.743Z"
   },
   {
    "duration": 4,
    "start_time": "2024-12-05T20:49:37.604Z"
   },
   {
    "duration": 4,
    "start_time": "2024-12-05T20:49:50.997Z"
   },
   {
    "duration": 4,
    "start_time": "2024-12-05T20:49:54.383Z"
   },
   {
    "duration": 4,
    "start_time": "2024-12-05T20:50:01.248Z"
   },
   {
    "duration": 4,
    "start_time": "2024-12-05T20:50:08.264Z"
   },
   {
    "duration": 4,
    "start_time": "2024-12-05T20:50:12.206Z"
   },
   {
    "duration": 4,
    "start_time": "2024-12-05T20:50:14.997Z"
   },
   {
    "duration": 4,
    "start_time": "2024-12-05T20:50:20.659Z"
   },
   {
    "duration": 4,
    "start_time": "2024-12-05T20:50:26.240Z"
   },
   {
    "duration": 4,
    "start_time": "2024-12-05T20:51:08.737Z"
   },
   {
    "duration": 5,
    "start_time": "2024-12-05T20:51:14.983Z"
   },
   {
    "duration": 4,
    "start_time": "2024-12-05T20:54:39.790Z"
   },
   {
    "duration": 9,
    "start_time": "2024-12-05T20:54:58.100Z"
   },
   {
    "duration": 5,
    "start_time": "2024-12-05T20:55:40.388Z"
   },
   {
    "duration": 16,
    "start_time": "2024-12-05T20:55:45.489Z"
   },
   {
    "duration": 8,
    "start_time": "2024-12-05T20:55:47.489Z"
   },
   {
    "duration": 16,
    "start_time": "2024-12-05T20:56:14.619Z"
   },
   {
    "duration": 15,
    "start_time": "2024-12-05T22:51:20.649Z"
   },
   {
    "duration": 235,
    "start_time": "2024-12-05T22:51:40.606Z"
   },
   {
    "duration": 8,
    "start_time": "2024-12-05T22:52:47.742Z"
   },
   {
    "duration": 9,
    "start_time": "2024-12-05T22:53:01.456Z"
   },
   {
    "duration": 6,
    "start_time": "2024-12-05T22:53:43.798Z"
   },
   {
    "duration": 7,
    "start_time": "2024-12-05T22:54:05.673Z"
   },
   {
    "duration": 5,
    "start_time": "2024-12-05T22:54:40.390Z"
   },
   {
    "duration": 8,
    "start_time": "2024-12-05T22:54:46.911Z"
   },
   {
    "duration": 7,
    "start_time": "2024-12-05T22:54:53.280Z"
   },
   {
    "duration": 6,
    "start_time": "2024-12-05T22:55:11.215Z"
   },
   {
    "duration": 8,
    "start_time": "2024-12-05T22:55:23.772Z"
   },
   {
    "duration": 8,
    "start_time": "2024-12-05T22:55:30.550Z"
   },
   {
    "duration": 4,
    "start_time": "2024-12-05T22:55:51.002Z"
   },
   {
    "duration": 4,
    "start_time": "2024-12-05T22:55:57.957Z"
   },
   {
    "duration": 6,
    "start_time": "2024-12-05T22:56:43.224Z"
   },
   {
    "duration": 7,
    "start_time": "2024-12-05T22:57:08.999Z"
   },
   {
    "duration": 4,
    "start_time": "2024-12-05T22:58:25.730Z"
   },
   {
    "duration": 4,
    "start_time": "2024-12-05T22:59:10.975Z"
   },
   {
    "duration": 6,
    "start_time": "2024-12-05T23:01:17.165Z"
   },
   {
    "duration": 17,
    "start_time": "2024-12-05T23:06:20.085Z"
   },
   {
    "duration": 16,
    "start_time": "2024-12-05T23:06:47.754Z"
   },
   {
    "duration": 16,
    "start_time": "2024-12-05T23:07:26.720Z"
   },
   {
    "duration": 3,
    "start_time": "2024-12-05T23:09:29.097Z"
   },
   {
    "duration": 9,
    "start_time": "2024-12-05T23:09:37.943Z"
   },
   {
    "duration": 17,
    "start_time": "2024-12-05T23:10:51.802Z"
   },
   {
    "duration": 19,
    "start_time": "2024-12-05T23:11:39.652Z"
   },
   {
    "duration": 115,
    "start_time": "2024-12-05T23:11:51.231Z"
   },
   {
    "duration": 63,
    "start_time": "2024-12-05T23:12:07.635Z"
   },
   {
    "duration": 34,
    "start_time": "2024-12-05T23:13:02.115Z"
   },
   {
    "duration": 6,
    "start_time": "2024-12-05T23:14:20.254Z"
   },
   {
    "duration": 3,
    "start_time": "2024-12-05T23:25:36.966Z"
   },
   {
    "duration": 8,
    "start_time": "2024-12-05T23:25:38.121Z"
   },
   {
    "duration": 25,
    "start_time": "2024-12-05T23:26:06.108Z"
   },
   {
    "duration": 3,
    "start_time": "2024-12-05T23:26:18.021Z"
   },
   {
    "duration": 5,
    "start_time": "2024-12-05T23:26:19.193Z"
   },
   {
    "duration": 3,
    "start_time": "2024-12-05T23:26:30.928Z"
   },
   {
    "duration": 4,
    "start_time": "2024-12-05T23:26:31.642Z"
   },
   {
    "duration": 3,
    "start_time": "2024-12-05T23:26:36.646Z"
   },
   {
    "duration": 4,
    "start_time": "2024-12-05T23:26:36.905Z"
   },
   {
    "duration": 4,
    "start_time": "2024-12-05T23:27:18.551Z"
   },
   {
    "duration": 4,
    "start_time": "2024-12-05T23:28:13.171Z"
   },
   {
    "duration": 6,
    "start_time": "2024-12-05T23:28:34.696Z"
   },
   {
    "duration": 66,
    "start_time": "2024-12-05T23:29:39.263Z"
   },
   {
    "duration": 225,
    "start_time": "2024-12-05T23:30:01.256Z"
   },
   {
    "duration": 49,
    "start_time": "2024-12-05T23:30:14.722Z"
   },
   {
    "duration": 5,
    "start_time": "2024-12-05T23:30:22.600Z"
   },
   {
    "duration": 5,
    "start_time": "2024-12-05T23:31:00.424Z"
   },
   {
    "duration": 4,
    "start_time": "2024-12-05T23:31:55.461Z"
   },
   {
    "duration": 4,
    "start_time": "2024-12-05T23:32:04.039Z"
   },
   {
    "duration": 4,
    "start_time": "2024-12-05T23:32:30.461Z"
   },
   {
    "duration": 62,
    "start_time": "2024-12-05T23:32:46.804Z"
   },
   {
    "duration": 39,
    "start_time": "2024-12-05T23:32:57.698Z"
   },
   {
    "duration": 35,
    "start_time": "2024-12-05T23:33:03.221Z"
   },
   {
    "duration": 36,
    "start_time": "2024-12-05T23:33:21.074Z"
   },
   {
    "duration": 36,
    "start_time": "2024-12-05T23:33:24.780Z"
   },
   {
    "duration": 38,
    "start_time": "2024-12-05T23:33:27.892Z"
   },
   {
    "duration": 51,
    "start_time": "2024-12-05T23:33:40.789Z"
   },
   {
    "duration": 52,
    "start_time": "2024-12-05T23:33:49.878Z"
   },
   {
    "duration": 52,
    "start_time": "2024-12-05T23:33:54.128Z"
   },
   {
    "duration": 6,
    "start_time": "2024-12-05T23:34:00.905Z"
   },
   {
    "duration": 37,
    "start_time": "2024-12-05T23:34:06.316Z"
   },
   {
    "duration": 6,
    "start_time": "2024-12-05T23:34:15.144Z"
   },
   {
    "duration": 7,
    "start_time": "2024-12-05T23:34:18.650Z"
   },
   {
    "duration": 5,
    "start_time": "2024-12-05T23:34:22.429Z"
   },
   {
    "duration": 5,
    "start_time": "2024-12-05T23:34:27.148Z"
   },
   {
    "duration": 6,
    "start_time": "2024-12-05T23:34:31.399Z"
   },
   {
    "duration": 6,
    "start_time": "2024-12-05T23:34:35.923Z"
   },
   {
    "duration": 6,
    "start_time": "2024-12-05T23:34:38.737Z"
   },
   {
    "duration": 4,
    "start_time": "2024-12-05T23:35:55.133Z"
   },
   {
    "duration": 5,
    "start_time": "2024-12-05T23:36:20.033Z"
   },
   {
    "duration": 5,
    "start_time": "2024-12-05T23:36:44.883Z"
   },
   {
    "duration": 6,
    "start_time": "2024-12-05T23:37:15.410Z"
   },
   {
    "duration": 5,
    "start_time": "2024-12-05T23:38:36.470Z"
   },
   {
    "duration": 4,
    "start_time": "2024-12-05T23:38:53.054Z"
   },
   {
    "duration": 4,
    "start_time": "2024-12-05T23:39:08.645Z"
   },
   {
    "duration": 2,
    "start_time": "2024-12-05T23:39:19.065Z"
   },
   {
    "duration": 4,
    "start_time": "2024-12-05T23:39:24.218Z"
   },
   {
    "duration": 3,
    "start_time": "2024-12-05T23:39:34.576Z"
   },
   {
    "duration": 4,
    "start_time": "2024-12-05T23:40:15.350Z"
   },
   {
    "duration": 6,
    "start_time": "2024-12-05T23:41:06.451Z"
   },
   {
    "duration": 15,
    "start_time": "2024-12-05T23:41:11.511Z"
   },
   {
    "duration": 6,
    "start_time": "2024-12-05T23:41:14.460Z"
   },
   {
    "duration": 16,
    "start_time": "2024-12-05T23:41:18.599Z"
   },
   {
    "duration": 4,
    "start_time": "2024-12-05T23:41:20.885Z"
   },
   {
    "duration": 5,
    "start_time": "2024-12-05T23:42:15.460Z"
   },
   {
    "duration": 3,
    "start_time": "2024-12-05T23:46:32.961Z"
   },
   {
    "duration": 3,
    "start_time": "2024-12-05T23:46:39.365Z"
   },
   {
    "duration": 4,
    "start_time": "2024-12-05T23:46:42.557Z"
   },
   {
    "duration": 4,
    "start_time": "2024-12-05T23:46:48.248Z"
   },
   {
    "duration": 4,
    "start_time": "2024-12-05T23:46:50.989Z"
   },
   {
    "duration": 78,
    "start_time": "2024-12-05T23:47:10.429Z"
   },
   {
    "duration": 40,
    "start_time": "2024-12-05T23:56:53.572Z"
   },
   {
    "duration": 1620,
    "start_time": "2024-12-05T23:57:07.705Z"
   },
   {
    "duration": 15434,
    "start_time": "2024-12-05T23:57:26.190Z"
   },
   {
    "duration": 3,
    "start_time": "2024-12-05T23:58:24.713Z"
   },
   {
    "duration": 5,
    "start_time": "2024-12-05T23:58:37.516Z"
   },
   {
    "duration": 7,
    "start_time": "2024-12-05T23:59:10.448Z"
   },
   {
    "duration": 5,
    "start_time": "2024-12-06T00:00:20.277Z"
   },
   {
    "duration": 15205,
    "start_time": "2024-12-06T00:05:29.221Z"
   },
   {
    "duration": 3,
    "start_time": "2024-12-06T00:10:50.836Z"
   },
   {
    "duration": 7,
    "start_time": "2024-12-06T00:10:52.097Z"
   },
   {
    "duration": 6,
    "start_time": "2024-12-06T00:10:54.755Z"
   },
   {
    "duration": 4,
    "start_time": "2024-12-06T00:10:55.977Z"
   },
   {
    "duration": 15416,
    "start_time": "2024-12-06T00:11:35.413Z"
   },
   {
    "duration": 15434,
    "start_time": "2024-12-06T00:12:14.478Z"
   },
   {
    "duration": 3,
    "start_time": "2024-12-06T00:12:54.429Z"
   },
   {
    "duration": 6,
    "start_time": "2024-12-06T00:12:54.941Z"
   },
   {
    "duration": 6,
    "start_time": "2024-12-06T00:12:56.043Z"
   },
   {
    "duration": 5,
    "start_time": "2024-12-06T00:12:57.513Z"
   },
   {
    "duration": 15504,
    "start_time": "2024-12-06T00:13:44.607Z"
   },
   {
    "duration": 15327,
    "start_time": "2024-12-06T00:14:12.086Z"
   },
   {
    "duration": 15494,
    "start_time": "2024-12-06T00:14:35.123Z"
   },
   {
    "duration": 15215,
    "start_time": "2024-12-06T00:15:00.302Z"
   },
   {
    "duration": 15297,
    "start_time": "2024-12-06T00:15:27.824Z"
   },
   {
    "duration": 15524,
    "start_time": "2024-12-06T00:15:55.293Z"
   },
   {
    "duration": 15040,
    "start_time": "2024-12-06T00:16:18.978Z"
   },
   {
    "duration": 15,
    "start_time": "2024-12-06T00:19:49.011Z"
   },
   {
    "duration": 17,
    "start_time": "2024-12-06T00:20:20.884Z"
   },
   {
    "duration": 6,
    "start_time": "2024-12-06T00:21:57.423Z"
   },
   {
    "duration": 6,
    "start_time": "2024-12-06T00:22:22.766Z"
   }
  ],
  "kernelspec": {
   "display_name": "Python 3 (ipykernel)",
   "language": "python",
   "name": "python3"
  },
  "language_info": {
   "codemirror_mode": {
    "name": "ipython",
    "version": 3
   },
   "file_extension": ".py",
   "mimetype": "text/x-python",
   "name": "python",
   "nbconvert_exporter": "python",
   "pygments_lexer": "ipython3",
   "version": "3.13.2"
  },
  "toc": {
   "base_numbering": 1,
   "nav_menu": {},
   "number_sections": true,
   "sideBar": true,
   "skip_h1_title": true,
   "title_cell": "Índice",
   "title_sidebar": "Conteúdos ",
   "toc_cell": false,
   "toc_position": {},
   "toc_section_display": true,
   "toc_window_display": false
  }
 },
 "nbformat": 4,
 "nbformat_minor": 4
}
